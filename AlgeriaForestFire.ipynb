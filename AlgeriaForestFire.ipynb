{
 "cells": [
  {
   "cell_type": "markdown",
   "metadata": {},
   "source": [
    "# INTRODUCTION\n",
    "- Observing forest fire in 2 regions of Algeria, namely the Bejaia region located in the northeast of Algeria and the Sidi Bel-abbes region located in the northwest of algeria.\n",
    "- The dataset I'm using comes from UCI on Algerian Forest Fires\n",
    "--- https://archive.ics.uci.edu/ml/datasets/Algerian+Forest+Fires+Dataset++#\n",
    "\n",
    "- The dataset contains record forest fire occurrence in summer 2012 which spans the period from June 2012 to September 2012.\n",
    "- This project requires the possibility of using machine learning algorithm to predict forest fires in these regions. This is because machine learning can analyse amount of data. Such as, weather patterns, temperature changes and other environmental factors. This can be used to predict when and where a future forest fire might occur using the patterns detected by the machine learning algorithm in these regions.\n",
    "\n",
    "## Data Set Information:\n",
    "\n",
    "The dataset includes 244 instances that regroup a data of two regions of Algeria,namely the Bejaia region located in the northeast of Algeria and the Sidi Bel-abbes region located in the northwest of Algeria.\n",
    "\n",
    "122 instances for each region.\n",
    "\n",
    "The period from June 2012 to September 2012.\n",
    "The dataset includes 11 attributes and 1 output attribute (class)\n",
    "The 244 instances have been classified into fire (138 classes) and not fire (106 classes) classes.\n",
    "\n",
    "\n",
    "## Attribute Information:\n",
    "\n",
    "1. Date: (DD/MM/YYYY) Day, month ('june' to 'september'), year (2012)\n",
    "Weather data observations\n",
    "2. Temp: temperature noon (temperature max) in Celsius degrees: 22 to 42\n",
    "3. RH: Relative Humidity in %: 21 to 90\n",
    "4. Ws:Wind speed in km/h: 6 to 29\n",
    "5. Rain: total day in mm: 0 to 16.8\n",
    "FWI Components\n",
    "6. Fine Fuel Moisture Code (FFMC) index from the FWI system: 28.6 to 92.5\n",
    "7. Duff Moisture Code (DMC) index from the FWI system: 1.1 to 65.9\n",
    "8. Drought Code (DC) index from the FWI system: 7 to 220.4\n",
    "9. Initial Spread Index (ISI) index from the FWI system: 0 to 18.5\n",
    "10. Buildup Index (BUI) index from the FWI system: 1.1 to 68\n",
    "11. Fire Weather Index (FWI) Index: 0 to 31.1\n",
    "12. Classes: two classes\n",
    "\n",
    "## Steps\n",
    "- Data gathering\n",
    "- Exploratory Data Analysis (EDA)\n",
    "- Feature Selection\n",
    "- Model Building & Selection\n",
    "- Hyperparameter Tuning\n",
    "- Model deployment"
   ]
  },
  {
   "cell_type": "code",
   "execution_count": 1,
   "metadata": {
    "ExecuteTime": {
     "end_time": "2023-04-28T04:23:01.824299Z",
     "start_time": "2023-04-28T04:22:59.366551Z"
    }
   },
   "outputs": [],
   "source": [
    "import warnings\n",
    "warnings.filterwarnings(\"ignore\")"
   ]
  },
  {
   "cell_type": "markdown",
   "metadata": {},
   "source": [
    "##### Importing python libraries"
   ]
  },
  {
   "cell_type": "code",
   "execution_count": 2,
   "metadata": {
    "ExecuteTime": {
     "end_time": "2023-04-28T04:23:03.098334Z",
     "start_time": "2023-04-28T04:22:59.429137Z"
    }
   },
   "outputs": [],
   "source": [
    "import numpy as np\n",
    "import pandas as pd\n",
    "import matplotlib.pyplot as plt\n",
    "%matplotlib inline\n",
    "import seaborn as sns\n",
    "from statsmodels.stats.outliers_influence import variance_inflation_factor\n",
    "#import statsmodels.api as sm\n",
    "from sklearn.model_selection import train_test_split\n",
    "from sklearn.preprocessing import StandardScaler\n",
    "from sklearn.linear_model import LinearRegression\n",
    "from sklearn import metrics\n",
    "from sklearn.metrics import r2_score\n",
    "from sklearn.linear_model import Lasso\n",
    "from sklearn.linear_model import Ridge\n",
    "#from sklearn.svm import SVR\n",
    "from sklearn.ensemble import RandomForestRegressor\n",
    "from sklearn.neighbors import KNeighborsRegressor\n",
    "from sklearn.model_selection import RandomizedSearchCV\n",
    "import bz2,pickle\n",
    "\n",
    "from sklearn.tree import DecisionTreeClassifier\n",
    "from sklearn import tree\n",
    "from sklearn.ensemble import RandomForestClassifier\n",
    "#from sklearn.tree import export_graphviz\n",
    "from sklearn.linear_model import LogisticRegression\n",
    "from sklearn.metrics import classification_report\n",
    "from sklearn.metrics import accuracy_score\n",
    "from sklearn.metrics import ConfusionMatrixDisplay\n",
    "from sklearn.neighbors import KNeighborsClassifier\n",
    "from xgboost import XGBClassifier"
   ]
  },
  {
   "cell_type": "markdown",
   "metadata": {},
   "source": [
    "#### Loading CSV fire\n",
    "- Pandas Library: to download the forest dataset\n",
    "\n",
    "###### Variable declaration:\n",
    "- ff_df is forestFire_dataframe"
   ]
  },
  {
   "cell_type": "code",
   "execution_count": 3,
   "metadata": {
    "ExecuteTime": {
     "end_time": "2023-04-28T04:23:03.211843Z",
     "start_time": "2023-04-28T04:22:59.507259Z"
    }
   },
   "outputs": [
    {
     "ename": "FileNotFoundError",
     "evalue": "[Errno 2] No such file or directory: 'Algerian_forest_fires_dataset_UPDATE.csv'",
     "output_type": "error",
     "traceback": [
      "\u001b[1;31m---------------------------------------------------------------------------\u001b[0m",
      "\u001b[1;31mFileNotFoundError\u001b[0m                         Traceback (most recent call last)",
      "Cell \u001b[1;32mIn[3], line 1\u001b[0m\n\u001b[1;32m----> 1\u001b[0m ff_df \u001b[38;5;241m=\u001b[39m \u001b[43mpd\u001b[49m\u001b[38;5;241;43m.\u001b[39;49m\u001b[43mread_csv\u001b[49m\u001b[43m(\u001b[49m\u001b[38;5;124;43m'\u001b[39;49m\u001b[38;5;124;43mAlgerian_forest_fires_dataset_UPDATE.csv\u001b[39;49m\u001b[38;5;124;43m'\u001b[39;49m\u001b[43m)\u001b[49m\n\u001b[0;32m      2\u001b[0m pd\u001b[38;5;241m.\u001b[39mset_option(\u001b[38;5;124m'\u001b[39m\u001b[38;5;124mdisplay.max_columns\u001b[39m\u001b[38;5;124m'\u001b[39m, \u001b[38;5;28;01mNone\u001b[39;00m)\n\u001b[0;32m      3\u001b[0m pd\u001b[38;5;241m.\u001b[39mset_option(\u001b[38;5;124m'\u001b[39m\u001b[38;5;124mdisplay.max_rows\u001b[39m\u001b[38;5;124m'\u001b[39m, \u001b[38;5;28;01mNone\u001b[39;00m)\n",
      "File \u001b[1;32m~\\anaconda3\\lib\\site-packages\\pandas\\util\\_decorators.py:211\u001b[0m, in \u001b[0;36mdeprecate_kwarg.<locals>._deprecate_kwarg.<locals>.wrapper\u001b[1;34m(*args, **kwargs)\u001b[0m\n\u001b[0;32m    209\u001b[0m     \u001b[38;5;28;01melse\u001b[39;00m:\n\u001b[0;32m    210\u001b[0m         kwargs[new_arg_name] \u001b[38;5;241m=\u001b[39m new_arg_value\n\u001b[1;32m--> 211\u001b[0m \u001b[38;5;28;01mreturn\u001b[39;00m func(\u001b[38;5;241m*\u001b[39margs, \u001b[38;5;241m*\u001b[39m\u001b[38;5;241m*\u001b[39mkwargs)\n",
      "File \u001b[1;32m~\\anaconda3\\lib\\site-packages\\pandas\\util\\_decorators.py:331\u001b[0m, in \u001b[0;36mdeprecate_nonkeyword_arguments.<locals>.decorate.<locals>.wrapper\u001b[1;34m(*args, **kwargs)\u001b[0m\n\u001b[0;32m    325\u001b[0m \u001b[38;5;28;01mif\u001b[39;00m \u001b[38;5;28mlen\u001b[39m(args) \u001b[38;5;241m>\u001b[39m num_allow_args:\n\u001b[0;32m    326\u001b[0m     warnings\u001b[38;5;241m.\u001b[39mwarn(\n\u001b[0;32m    327\u001b[0m         msg\u001b[38;5;241m.\u001b[39mformat(arguments\u001b[38;5;241m=\u001b[39m_format_argument_list(allow_args)),\n\u001b[0;32m    328\u001b[0m         \u001b[38;5;167;01mFutureWarning\u001b[39;00m,\n\u001b[0;32m    329\u001b[0m         stacklevel\u001b[38;5;241m=\u001b[39mfind_stack_level(),\n\u001b[0;32m    330\u001b[0m     )\n\u001b[1;32m--> 331\u001b[0m \u001b[38;5;28;01mreturn\u001b[39;00m func(\u001b[38;5;241m*\u001b[39margs, \u001b[38;5;241m*\u001b[39m\u001b[38;5;241m*\u001b[39mkwargs)\n",
      "File \u001b[1;32m~\\anaconda3\\lib\\site-packages\\pandas\\io\\parsers\\readers.py:950\u001b[0m, in \u001b[0;36mread_csv\u001b[1;34m(filepath_or_buffer, sep, delimiter, header, names, index_col, usecols, squeeze, prefix, mangle_dupe_cols, dtype, engine, converters, true_values, false_values, skipinitialspace, skiprows, skipfooter, nrows, na_values, keep_default_na, na_filter, verbose, skip_blank_lines, parse_dates, infer_datetime_format, keep_date_col, date_parser, dayfirst, cache_dates, iterator, chunksize, compression, thousands, decimal, lineterminator, quotechar, quoting, doublequote, escapechar, comment, encoding, encoding_errors, dialect, error_bad_lines, warn_bad_lines, on_bad_lines, delim_whitespace, low_memory, memory_map, float_precision, storage_options)\u001b[0m\n\u001b[0;32m    935\u001b[0m kwds_defaults \u001b[38;5;241m=\u001b[39m _refine_defaults_read(\n\u001b[0;32m    936\u001b[0m     dialect,\n\u001b[0;32m    937\u001b[0m     delimiter,\n\u001b[1;32m   (...)\u001b[0m\n\u001b[0;32m    946\u001b[0m     defaults\u001b[38;5;241m=\u001b[39m{\u001b[38;5;124m\"\u001b[39m\u001b[38;5;124mdelimiter\u001b[39m\u001b[38;5;124m\"\u001b[39m: \u001b[38;5;124m\"\u001b[39m\u001b[38;5;124m,\u001b[39m\u001b[38;5;124m\"\u001b[39m},\n\u001b[0;32m    947\u001b[0m )\n\u001b[0;32m    948\u001b[0m kwds\u001b[38;5;241m.\u001b[39mupdate(kwds_defaults)\n\u001b[1;32m--> 950\u001b[0m \u001b[38;5;28;01mreturn\u001b[39;00m \u001b[43m_read\u001b[49m\u001b[43m(\u001b[49m\u001b[43mfilepath_or_buffer\u001b[49m\u001b[43m,\u001b[49m\u001b[43m \u001b[49m\u001b[43mkwds\u001b[49m\u001b[43m)\u001b[49m\n",
      "File \u001b[1;32m~\\anaconda3\\lib\\site-packages\\pandas\\io\\parsers\\readers.py:605\u001b[0m, in \u001b[0;36m_read\u001b[1;34m(filepath_or_buffer, kwds)\u001b[0m\n\u001b[0;32m    602\u001b[0m _validate_names(kwds\u001b[38;5;241m.\u001b[39mget(\u001b[38;5;124m\"\u001b[39m\u001b[38;5;124mnames\u001b[39m\u001b[38;5;124m\"\u001b[39m, \u001b[38;5;28;01mNone\u001b[39;00m))\n\u001b[0;32m    604\u001b[0m \u001b[38;5;66;03m# Create the parser.\u001b[39;00m\n\u001b[1;32m--> 605\u001b[0m parser \u001b[38;5;241m=\u001b[39m TextFileReader(filepath_or_buffer, \u001b[38;5;241m*\u001b[39m\u001b[38;5;241m*\u001b[39mkwds)\n\u001b[0;32m    607\u001b[0m \u001b[38;5;28;01mif\u001b[39;00m chunksize \u001b[38;5;129;01mor\u001b[39;00m iterator:\n\u001b[0;32m    608\u001b[0m     \u001b[38;5;28;01mreturn\u001b[39;00m parser\n",
      "File \u001b[1;32m~\\anaconda3\\lib\\site-packages\\pandas\\io\\parsers\\readers.py:1442\u001b[0m, in \u001b[0;36mTextFileReader.__init__\u001b[1;34m(self, f, engine, **kwds)\u001b[0m\n\u001b[0;32m   1439\u001b[0m     \u001b[38;5;28mself\u001b[39m\u001b[38;5;241m.\u001b[39moptions[\u001b[38;5;124m\"\u001b[39m\u001b[38;5;124mhas_index_names\u001b[39m\u001b[38;5;124m\"\u001b[39m] \u001b[38;5;241m=\u001b[39m kwds[\u001b[38;5;124m\"\u001b[39m\u001b[38;5;124mhas_index_names\u001b[39m\u001b[38;5;124m\"\u001b[39m]\n\u001b[0;32m   1441\u001b[0m \u001b[38;5;28mself\u001b[39m\u001b[38;5;241m.\u001b[39mhandles: IOHandles \u001b[38;5;241m|\u001b[39m \u001b[38;5;28;01mNone\u001b[39;00m \u001b[38;5;241m=\u001b[39m \u001b[38;5;28;01mNone\u001b[39;00m\n\u001b[1;32m-> 1442\u001b[0m \u001b[38;5;28mself\u001b[39m\u001b[38;5;241m.\u001b[39m_engine \u001b[38;5;241m=\u001b[39m \u001b[38;5;28;43mself\u001b[39;49m\u001b[38;5;241;43m.\u001b[39;49m\u001b[43m_make_engine\u001b[49m\u001b[43m(\u001b[49m\u001b[43mf\u001b[49m\u001b[43m,\u001b[49m\u001b[43m \u001b[49m\u001b[38;5;28;43mself\u001b[39;49m\u001b[38;5;241;43m.\u001b[39;49m\u001b[43mengine\u001b[49m\u001b[43m)\u001b[49m\n",
      "File \u001b[1;32m~\\anaconda3\\lib\\site-packages\\pandas\\io\\parsers\\readers.py:1735\u001b[0m, in \u001b[0;36mTextFileReader._make_engine\u001b[1;34m(self, f, engine)\u001b[0m\n\u001b[0;32m   1733\u001b[0m     \u001b[38;5;28;01mif\u001b[39;00m \u001b[38;5;124m\"\u001b[39m\u001b[38;5;124mb\u001b[39m\u001b[38;5;124m\"\u001b[39m \u001b[38;5;129;01mnot\u001b[39;00m \u001b[38;5;129;01min\u001b[39;00m mode:\n\u001b[0;32m   1734\u001b[0m         mode \u001b[38;5;241m+\u001b[39m\u001b[38;5;241m=\u001b[39m \u001b[38;5;124m\"\u001b[39m\u001b[38;5;124mb\u001b[39m\u001b[38;5;124m\"\u001b[39m\n\u001b[1;32m-> 1735\u001b[0m \u001b[38;5;28mself\u001b[39m\u001b[38;5;241m.\u001b[39mhandles \u001b[38;5;241m=\u001b[39m \u001b[43mget_handle\u001b[49m\u001b[43m(\u001b[49m\n\u001b[0;32m   1736\u001b[0m \u001b[43m    \u001b[49m\u001b[43mf\u001b[49m\u001b[43m,\u001b[49m\n\u001b[0;32m   1737\u001b[0m \u001b[43m    \u001b[49m\u001b[43mmode\u001b[49m\u001b[43m,\u001b[49m\n\u001b[0;32m   1738\u001b[0m \u001b[43m    \u001b[49m\u001b[43mencoding\u001b[49m\u001b[38;5;241;43m=\u001b[39;49m\u001b[38;5;28;43mself\u001b[39;49m\u001b[38;5;241;43m.\u001b[39;49m\u001b[43moptions\u001b[49m\u001b[38;5;241;43m.\u001b[39;49m\u001b[43mget\u001b[49m\u001b[43m(\u001b[49m\u001b[38;5;124;43m\"\u001b[39;49m\u001b[38;5;124;43mencoding\u001b[39;49m\u001b[38;5;124;43m\"\u001b[39;49m\u001b[43m,\u001b[49m\u001b[43m \u001b[49m\u001b[38;5;28;43;01mNone\u001b[39;49;00m\u001b[43m)\u001b[49m\u001b[43m,\u001b[49m\n\u001b[0;32m   1739\u001b[0m \u001b[43m    \u001b[49m\u001b[43mcompression\u001b[49m\u001b[38;5;241;43m=\u001b[39;49m\u001b[38;5;28;43mself\u001b[39;49m\u001b[38;5;241;43m.\u001b[39;49m\u001b[43moptions\u001b[49m\u001b[38;5;241;43m.\u001b[39;49m\u001b[43mget\u001b[49m\u001b[43m(\u001b[49m\u001b[38;5;124;43m\"\u001b[39;49m\u001b[38;5;124;43mcompression\u001b[39;49m\u001b[38;5;124;43m\"\u001b[39;49m\u001b[43m,\u001b[49m\u001b[43m \u001b[49m\u001b[38;5;28;43;01mNone\u001b[39;49;00m\u001b[43m)\u001b[49m\u001b[43m,\u001b[49m\n\u001b[0;32m   1740\u001b[0m \u001b[43m    \u001b[49m\u001b[43mmemory_map\u001b[49m\u001b[38;5;241;43m=\u001b[39;49m\u001b[38;5;28;43mself\u001b[39;49m\u001b[38;5;241;43m.\u001b[39;49m\u001b[43moptions\u001b[49m\u001b[38;5;241;43m.\u001b[39;49m\u001b[43mget\u001b[49m\u001b[43m(\u001b[49m\u001b[38;5;124;43m\"\u001b[39;49m\u001b[38;5;124;43mmemory_map\u001b[39;49m\u001b[38;5;124;43m\"\u001b[39;49m\u001b[43m,\u001b[49m\u001b[43m \u001b[49m\u001b[38;5;28;43;01mFalse\u001b[39;49;00m\u001b[43m)\u001b[49m\u001b[43m,\u001b[49m\n\u001b[0;32m   1741\u001b[0m \u001b[43m    \u001b[49m\u001b[43mis_text\u001b[49m\u001b[38;5;241;43m=\u001b[39;49m\u001b[43mis_text\u001b[49m\u001b[43m,\u001b[49m\n\u001b[0;32m   1742\u001b[0m \u001b[43m    \u001b[49m\u001b[43merrors\u001b[49m\u001b[38;5;241;43m=\u001b[39;49m\u001b[38;5;28;43mself\u001b[39;49m\u001b[38;5;241;43m.\u001b[39;49m\u001b[43moptions\u001b[49m\u001b[38;5;241;43m.\u001b[39;49m\u001b[43mget\u001b[49m\u001b[43m(\u001b[49m\u001b[38;5;124;43m\"\u001b[39;49m\u001b[38;5;124;43mencoding_errors\u001b[39;49m\u001b[38;5;124;43m\"\u001b[39;49m\u001b[43m,\u001b[49m\u001b[43m \u001b[49m\u001b[38;5;124;43m\"\u001b[39;49m\u001b[38;5;124;43mstrict\u001b[39;49m\u001b[38;5;124;43m\"\u001b[39;49m\u001b[43m)\u001b[49m\u001b[43m,\u001b[49m\n\u001b[0;32m   1743\u001b[0m \u001b[43m    \u001b[49m\u001b[43mstorage_options\u001b[49m\u001b[38;5;241;43m=\u001b[39;49m\u001b[38;5;28;43mself\u001b[39;49m\u001b[38;5;241;43m.\u001b[39;49m\u001b[43moptions\u001b[49m\u001b[38;5;241;43m.\u001b[39;49m\u001b[43mget\u001b[49m\u001b[43m(\u001b[49m\u001b[38;5;124;43m\"\u001b[39;49m\u001b[38;5;124;43mstorage_options\u001b[39;49m\u001b[38;5;124;43m\"\u001b[39;49m\u001b[43m,\u001b[49m\u001b[43m \u001b[49m\u001b[38;5;28;43;01mNone\u001b[39;49;00m\u001b[43m)\u001b[49m\u001b[43m,\u001b[49m\n\u001b[0;32m   1744\u001b[0m \u001b[43m\u001b[49m\u001b[43m)\u001b[49m\n\u001b[0;32m   1745\u001b[0m \u001b[38;5;28;01massert\u001b[39;00m \u001b[38;5;28mself\u001b[39m\u001b[38;5;241m.\u001b[39mhandles \u001b[38;5;129;01mis\u001b[39;00m \u001b[38;5;129;01mnot\u001b[39;00m \u001b[38;5;28;01mNone\u001b[39;00m\n\u001b[0;32m   1746\u001b[0m f \u001b[38;5;241m=\u001b[39m \u001b[38;5;28mself\u001b[39m\u001b[38;5;241m.\u001b[39mhandles\u001b[38;5;241m.\u001b[39mhandle\n",
      "File \u001b[1;32m~\\anaconda3\\lib\\site-packages\\pandas\\io\\common.py:856\u001b[0m, in \u001b[0;36mget_handle\u001b[1;34m(path_or_buf, mode, encoding, compression, memory_map, is_text, errors, storage_options)\u001b[0m\n\u001b[0;32m    851\u001b[0m \u001b[38;5;28;01melif\u001b[39;00m \u001b[38;5;28misinstance\u001b[39m(handle, \u001b[38;5;28mstr\u001b[39m):\n\u001b[0;32m    852\u001b[0m     \u001b[38;5;66;03m# Check whether the filename is to be opened in binary mode.\u001b[39;00m\n\u001b[0;32m    853\u001b[0m     \u001b[38;5;66;03m# Binary mode does not support 'encoding' and 'newline'.\u001b[39;00m\n\u001b[0;32m    854\u001b[0m     \u001b[38;5;28;01mif\u001b[39;00m ioargs\u001b[38;5;241m.\u001b[39mencoding \u001b[38;5;129;01mand\u001b[39;00m \u001b[38;5;124m\"\u001b[39m\u001b[38;5;124mb\u001b[39m\u001b[38;5;124m\"\u001b[39m \u001b[38;5;129;01mnot\u001b[39;00m \u001b[38;5;129;01min\u001b[39;00m ioargs\u001b[38;5;241m.\u001b[39mmode:\n\u001b[0;32m    855\u001b[0m         \u001b[38;5;66;03m# Encoding\u001b[39;00m\n\u001b[1;32m--> 856\u001b[0m         handle \u001b[38;5;241m=\u001b[39m \u001b[38;5;28;43mopen\u001b[39;49m\u001b[43m(\u001b[49m\n\u001b[0;32m    857\u001b[0m \u001b[43m            \u001b[49m\u001b[43mhandle\u001b[49m\u001b[43m,\u001b[49m\n\u001b[0;32m    858\u001b[0m \u001b[43m            \u001b[49m\u001b[43mioargs\u001b[49m\u001b[38;5;241;43m.\u001b[39;49m\u001b[43mmode\u001b[49m\u001b[43m,\u001b[49m\n\u001b[0;32m    859\u001b[0m \u001b[43m            \u001b[49m\u001b[43mencoding\u001b[49m\u001b[38;5;241;43m=\u001b[39;49m\u001b[43mioargs\u001b[49m\u001b[38;5;241;43m.\u001b[39;49m\u001b[43mencoding\u001b[49m\u001b[43m,\u001b[49m\n\u001b[0;32m    860\u001b[0m \u001b[43m            \u001b[49m\u001b[43merrors\u001b[49m\u001b[38;5;241;43m=\u001b[39;49m\u001b[43merrors\u001b[49m\u001b[43m,\u001b[49m\n\u001b[0;32m    861\u001b[0m \u001b[43m            \u001b[49m\u001b[43mnewline\u001b[49m\u001b[38;5;241;43m=\u001b[39;49m\u001b[38;5;124;43m\"\u001b[39;49m\u001b[38;5;124;43m\"\u001b[39;49m\u001b[43m,\u001b[49m\n\u001b[0;32m    862\u001b[0m \u001b[43m        \u001b[49m\u001b[43m)\u001b[49m\n\u001b[0;32m    863\u001b[0m     \u001b[38;5;28;01melse\u001b[39;00m:\n\u001b[0;32m    864\u001b[0m         \u001b[38;5;66;03m# Binary mode\u001b[39;00m\n\u001b[0;32m    865\u001b[0m         handle \u001b[38;5;241m=\u001b[39m \u001b[38;5;28mopen\u001b[39m(handle, ioargs\u001b[38;5;241m.\u001b[39mmode)\n",
      "\u001b[1;31mFileNotFoundError\u001b[0m: [Errno 2] No such file or directory: 'Algerian_forest_fires_dataset_UPDATE.csv'"
     ]
    }
   ],
   "source": [
    "ff_df = pd.read_csv('Algerian_forest_fires_dataset_UPDATE.csv')\n",
    "pd.set_option('display.max_columns', None)\n",
    "pd.set_option('display.max_rows', None)\n",
    "ff_df"
   ]
  },
  {
   "cell_type": "markdown",
   "metadata": {},
   "source": [
    "# EDA\n",
    "- Exploratory Data Analysis (EDA) application to extract insights from the data set by performing Data Analysis using Pandas and Data visualisation using Matplotlib & Seaborn to know which features have contributed more in predicting Forest fire. As it is a good practice to study and understand the data first and gather as many insight as possible."
   ]
  },
  {
   "cell_type": "code",
   "execution_count": null,
   "metadata": {
    "ExecuteTime": {
     "end_time": "2023-04-28T04:23:03.211843Z",
     "start_time": "2023-04-28T04:22:59.538507Z"
    }
   },
   "outputs": [],
   "source": [
    "ff_df.head()"
   ]
  },
  {
   "cell_type": "code",
   "execution_count": null,
   "metadata": {
    "ExecuteTime": {
     "end_time": "2023-04-28T04:23:03.211843Z",
     "start_time": "2023-04-28T04:22:59.557213Z"
    }
   },
   "outputs": [],
   "source": [
    "ff_df.tail()"
   ]
  },
  {
   "cell_type": "code",
   "execution_count": null,
   "metadata": {
    "ExecuteTime": {
     "end_time": "2023-04-28T04:23:03.211843Z",
     "start_time": "2023-04-28T04:22:59.572896Z"
    }
   },
   "outputs": [],
   "source": [
    "ff_df.info()"
   ]
  },
  {
   "cell_type": "markdown",
   "metadata": {},
   "source": []
  },
  {
   "cell_type": "markdown",
   "metadata": {},
   "source": [
    "To allow regression analysis, features datatypes needs to be converted to integer datatype from the object datatype"
   ]
  },
  {
   "cell_type": "code",
   "execution_count": null,
   "metadata": {
    "ExecuteTime": {
     "end_time": "2023-04-28T04:23:03.211843Z",
     "start_time": "2023-04-28T04:22:59.588525Z"
    }
   },
   "outputs": [],
   "source": [
    "ff_df.shape"
   ]
  },
  {
   "cell_type": "markdown",
   "metadata": {},
   "source": [
    "#### cleaning dataset"
   ]
  },
  {
   "cell_type": "code",
   "execution_count": null,
   "metadata": {
    "ExecuteTime": {
     "end_time": "2023-04-28T04:23:03.258717Z",
     "start_time": "2023-04-28T04:22:59.622092Z"
    }
   },
   "outputs": [],
   "source": [
    "ff_df.isnull().sum()"
   ]
  },
  {
   "cell_type": "code",
   "execution_count": null,
   "metadata": {
    "ExecuteTime": {
     "end_time": "2023-04-28T04:23:03.258717Z",
     "start_time": "2023-04-28T04:22:59.637740Z"
    }
   },
   "outputs": [],
   "source": [
    "#To check the row which have a missing value\n",
    "ff_df[ff_df.isnull().any(axis=1)]"
   ]
  },
  {
   "cell_type": "markdown",
   "metadata": {},
   "source": [
    "#### Making new column based on the region\n",
    "- As seen above the missing values at 122nd index separate the data set of the 2 regions.\n",
    "\n",
    "1 : Bejaia Region Dataset\n",
    "\n",
    "2 : Sidi Bel-Abbes Region Dataset"
   ]
  },
  {
   "cell_type": "code",
   "execution_count": null,
   "metadata": {
    "ExecuteTime": {
     "end_time": "2023-04-28T04:23:03.524344Z",
     "start_time": "2023-04-28T04:22:59.653364Z"
    }
   },
   "outputs": [],
   "source": [
    "ff_df.loc[:122, 'Region']=1\n",
    "ff_df.loc[122:, 'Region']=2\n",
    "ff_df[['Region']] = ff_df[['Region']].astype(int)"
   ]
  },
  {
   "cell_type": "code",
   "execution_count": null,
   "metadata": {
    "ExecuteTime": {
     "end_time": "2023-04-28T04:23:03.524344Z",
     "start_time": "2023-04-28T04:22:59.668990Z"
    }
   },
   "outputs": [],
   "source": [
    "ff_df.head(10)"
   ]
  },
  {
   "cell_type": "code",
   "execution_count": null,
   "metadata": {
    "ExecuteTime": {
     "end_time": "2023-04-28T04:23:03.618094Z",
     "start_time": "2023-04-28T04:22:59.688193Z"
    }
   },
   "outputs": [],
   "source": [
    "ff_df.tail(10)"
   ]
  },
  {
   "cell_type": "code",
   "execution_count": null,
   "metadata": {
    "ExecuteTime": {
     "end_time": "2023-04-28T04:23:03.618094Z",
     "start_time": "2023-04-28T04:22:59.703873Z"
    }
   },
   "outputs": [],
   "source": [
    "ff_df.isnull().sum()"
   ]
  },
  {
   "cell_type": "code",
   "execution_count": null,
   "metadata": {
    "ExecuteTime": {
     "end_time": "2023-04-28T04:23:03.633723Z",
     "start_time": "2023-04-28T04:22:59.721251Z"
    }
   },
   "outputs": [],
   "source": [
    "ff_df =ff_df.dropna().reset_index(drop=True)\n",
    "ff_df.shape"
   ]
  },
  {
   "cell_type": "code",
   "execution_count": null,
   "metadata": {
    "ExecuteTime": {
     "end_time": "2023-04-28T04:23:03.633723Z",
     "start_time": "2023-04-28T04:22:59.740590Z"
    }
   },
   "outputs": [],
   "source": [
    "# Column that has String\n",
    "ff_df.iloc[[122]]"
   ]
  },
  {
   "cell_type": "code",
   "execution_count": null,
   "metadata": {
    "ExecuteTime": {
     "end_time": "2023-04-28T04:23:03.711842Z",
     "start_time": "2023-04-28T04:22:59.759996Z"
    }
   },
   "outputs": [],
   "source": [
    "ff_df[ff_df.duplicated()]"
   ]
  },
  {
   "cell_type": "markdown",
   "metadata": {},
   "source": [
    "There are no duplicated data in the data set"
   ]
  },
  {
   "cell_type": "code",
   "execution_count": null,
   "metadata": {
    "ExecuteTime": {
     "end_time": "2023-04-28T04:23:03.836855Z",
     "start_time": "2023-04-28T04:22:59.777424Z"
    }
   },
   "outputs": [],
   "source": [
    "# Remove the 122nd column\n",
    "ff_df1 = ff_df.drop(122).reset_index(drop=True)\n",
    "pd.set_option('display.max_rows', None)\n",
    "ff_df1"
   ]
  },
  {
   "cell_type": "code",
   "execution_count": null,
   "metadata": {
    "ExecuteTime": {
     "end_time": "2023-04-28T04:23:03.836855Z",
     "start_time": "2023-04-28T04:22:59.855576Z"
    }
   },
   "outputs": [],
   "source": [
    "ff_df1.head(10)"
   ]
  },
  {
   "cell_type": "code",
   "execution_count": null,
   "metadata": {
    "ExecuteTime": {
     "end_time": "2023-04-28T04:23:03.852479Z",
     "start_time": "2023-04-28T04:22:59.894813Z"
    }
   },
   "outputs": [],
   "source": [
    "ff_df1.shape"
   ]
  },
  {
   "cell_type": "code",
   "execution_count": null,
   "metadata": {
    "ExecuteTime": {
     "end_time": "2023-04-28T04:23:03.852479Z",
     "start_time": "2023-04-28T04:22:59.910463Z"
    }
   },
   "outputs": [],
   "source": [
    "ff_df1[ff_df1.isnull().any(axis=1)]"
   ]
  },
  {
   "cell_type": "markdown",
   "metadata": {},
   "source": [
    "No missing data"
   ]
  },
  {
   "cell_type": "code",
   "execution_count": null,
   "metadata": {
    "ExecuteTime": {
     "end_time": "2023-04-28T04:23:03.852479Z",
     "start_time": "2023-04-28T04:22:59.926088Z"
    }
   },
   "outputs": [],
   "source": [
    "# Check for column names\n",
    "ff_df1.columns"
   ]
  },
  {
   "cell_type": "code",
   "execution_count": null,
   "metadata": {
    "ExecuteTime": {
     "end_time": "2023-04-28T04:23:03.852479Z",
     "start_time": "2023-04-28T04:22:59.945302Z"
    }
   },
   "outputs": [],
   "source": [
    "ff_df1.columns = ff_df1.columns.str.strip()\n",
    "ff_df1.columns"
   ]
  },
  {
   "cell_type": "markdown",
   "metadata": {},
   "source": [
    "##### Changing the data types into the required data types for the respective features for the analysis"
   ]
  },
  {
   "cell_type": "code",
   "execution_count": null,
   "metadata": {
    "ExecuteTime": {
     "end_time": "2023-04-28T04:23:03.899355Z",
     "start_time": "2023-04-28T04:22:59.962591Z"
    }
   },
   "outputs": [],
   "source": [
    "ff_df1[['month', 'day', 'year', 'Temperature', 'RH', 'Ws']] = ff_df1[['month', 'day', 'year', 'Temperature','RH', 'Ws']].astype(int)"
   ]
  },
  {
   "cell_type": "code",
   "execution_count": null,
   "metadata": {
    "ExecuteTime": {
     "end_time": "2023-04-28T04:23:03.899355Z",
     "start_time": "2023-04-28T04:22:59.978283Z"
    }
   },
   "outputs": [],
   "source": [
    "objects = [features for features in ff_df1.columns if ff_df1[features].dtypes=='O']\n",
    "for i in objects:\n",
    "    if i != 'Classes':\n",
    "        ff_df1[i] = ff_df1[i].astype(float)"
   ]
  },
  {
   "cell_type": "code",
   "execution_count": null,
   "metadata": {
    "ExecuteTime": {
     "end_time": "2023-04-28T04:23:03.899355Z",
     "start_time": "2023-04-28T04:22:59.993940Z"
    }
   },
   "outputs": [],
   "source": [
    "ff_df1.info()"
   ]
  },
  {
   "cell_type": "code",
   "execution_count": null,
   "metadata": {
    "ExecuteTime": {
     "end_time": "2023-04-28T04:23:03.914978Z",
     "start_time": "2023-04-28T04:23:00.009567Z"
    }
   },
   "outputs": [],
   "source": [
    "ff_df1.describe()"
   ]
  },
  {
   "cell_type": "code",
   "execution_count": null,
   "metadata": {
    "ExecuteTime": {
     "end_time": "2023-04-28T04:23:03.914978Z",
     "start_time": "2023-04-28T04:23:00.060129Z"
    }
   },
   "outputs": [],
   "source": [
    "ff_df1.describe(include = 'all')"
   ]
  },
  {
   "cell_type": "code",
   "execution_count": null,
   "metadata": {
    "ExecuteTime": {
     "end_time": "2023-04-28T04:23:03.946229Z",
     "start_time": "2023-04-28T04:23:00.093694Z"
    }
   },
   "outputs": [],
   "source": [
    "ff_df1[\"Classes\"].value_counts()"
   ]
  },
  {
   "cell_type": "markdown",
   "metadata": {},
   "source": [
    "The dependent feature (Classes) only contains two categories. However, due to miss-pace it outputs multiple category so need to change the spacing in order to make two category."
   ]
  },
  {
   "cell_type": "code",
   "execution_count": null,
   "metadata": {
    "ExecuteTime": {
     "end_time": "2023-04-28T04:23:03.961852Z",
     "start_time": "2023-04-28T04:23:00.112927Z"
    }
   },
   "outputs": [],
   "source": [
    "ff_df1.Classes = ff_df1.Classes.str.strip()"
   ]
  },
  {
   "cell_type": "code",
   "execution_count": null,
   "metadata": {
    "ExecuteTime": {
     "end_time": "2023-04-28T04:23:03.961852Z",
     "start_time": "2023-04-28T04:23:00.133466Z"
    }
   },
   "outputs": [],
   "source": [
    "ff_df1[\"Classes\"].value_counts()"
   ]
  },
  {
   "cell_type": "code",
   "execution_count": null,
   "metadata": {
    "ExecuteTime": {
     "end_time": "2023-04-28T04:23:03.961852Z",
     "start_time": "2023-04-28T04:23:00.153148Z"
    }
   },
   "outputs": [],
   "source": [
    "# Bejaia Region dataset only\n",
    "ff_df1[:122]"
   ]
  },
  {
   "cell_type": "code",
   "execution_count": null,
   "metadata": {
    "ExecuteTime": {
     "end_time": "2023-04-28T04:23:03.977478Z",
     "start_time": "2023-04-28T04:23:00.204003Z"
    }
   },
   "outputs": [],
   "source": [
    "# Sidi Bel-Abbes region dataset only\n",
    "ff_df1[122:]"
   ]
  },
  {
   "cell_type": "code",
   "execution_count": null,
   "metadata": {
    "ExecuteTime": {
     "end_time": "2023-04-28T04:23:03.993105Z",
     "start_time": "2023-04-28T04:23:00.269719Z"
    }
   },
   "outputs": [],
   "source": [
    "ff_df1.shape"
   ]
  },
  {
   "cell_type": "code",
   "execution_count": null,
   "metadata": {
    "ExecuteTime": {
     "end_time": "2023-04-28T04:23:03.993105Z",
     "start_time": "2023-04-28T04:23:00.288914Z"
    }
   },
   "outputs": [],
   "source": [
    "# Encoding Not fire as 0 and fire as 1\n",
    "ff_df1['Classes']= np.where(ff_df1['Classes']=='not fire',0,1)\n",
    "ff_df1.head(10)"
   ]
  },
  {
   "cell_type": "code",
   "execution_count": null,
   "metadata": {
    "ExecuteTime": {
     "end_time": "2023-04-28T04:23:03.993105Z",
     "start_time": "2023-04-28T04:23:00.323490Z"
    }
   },
   "outputs": [],
   "source": [
    "ff_df1.Classes.value_counts()"
   ]
  },
  {
   "cell_type": "code",
   "execution_count": null,
   "metadata": {
    "ExecuteTime": {
     "end_time": "2023-04-28T04:23:04.448756Z",
     "start_time": "2023-04-28T04:23:00.343265Z"
    }
   },
   "outputs": [],
   "source": [
    "plt.figure(figsize=(20,15))\n",
    "sns.heatmap(ff_df1.corr(), annot=True, linewidths=1,\n",
    "           linecolor=\"black\", cbar=True, cmap=\"Paired\",\n",
    "           xticklabels=\"auto\", yticklabels=\"auto\")"
   ]
  },
  {
   "cell_type": "markdown",
   "metadata": {},
   "source": [
    "## Distribution visualisation"
   ]
  },
  {
   "cell_type": "code",
   "execution_count": null,
   "metadata": {
    "ExecuteTime": {
     "end_time": "2023-04-28T04:23:05.515905Z",
     "start_time": "2023-04-28T04:23:01.176851Z"
    }
   },
   "outputs": [],
   "source": [
    "#Plotting density graphs for all features.\n",
    "ff_df1.hist(bins=50, figsize=(20,15), ec ='b')\n",
    "plt.show()"
   ]
  },
  {
   "cell_type": "code",
   "execution_count": null,
   "metadata": {
    "ExecuteTime": {
     "end_time": "2023-04-28T04:23:05.515905Z",
     "start_time": "2023-04-28T04:23:04.365147Z"
    }
   },
   "outputs": [],
   "source": [
    "# Calculating the percentages of each Class categories\n",
    "percent =ff_df1.Classes.value_counts(normalize=True)*100\n",
    "percent"
   ]
  },
  {
   "cell_type": "code",
   "execution_count": null,
   "metadata": {
    "ExecuteTime": {
     "end_time": "2023-04-28T04:23:05.515905Z",
     "start_time": "2023-04-28T04:23:04.386224Z"
    }
   },
   "outputs": [],
   "source": [
    "clabels =[\"Fire\", \"Not Fire\"]\n",
    "plt.figure(figsize=(12,7))\n",
    "plt.pie(percent, labels = clabels, autopct='%1.1f%%')\n",
    "plt.title(\"Classes Pie Chart\", fontsize=12)\n",
    "plt.show()"
   ]
  },
  {
   "cell_type": "code",
   "execution_count": null,
   "metadata": {
    "ExecuteTime": {
     "end_time": "2023-04-28T04:23:05.515905Z",
     "start_time": "2023-04-28T04:23:04.480036Z"
    }
   },
   "outputs": [],
   "source": [
    "sns.countplot(x ='Classes', data=ff_df1, palette=\"tab10\")\n",
    "plt.title('Class Distributions \\n 0: No Fire || 1: Fire', fontsize =14)"
   ]
  },
  {
   "cell_type": "markdown",
   "metadata": {},
   "source": [
    "\n",
    "### Month-wise Fire Analysis"
   ]
  },
  {
   "cell_type": "code",
   "execution_count": null,
   "metadata": {
    "ExecuteTime": {
     "end_time": "2023-04-28T04:23:05.515905Z",
     "start_time": "2023-04-28T04:23:04.623795Z"
    }
   },
   "outputs": [],
   "source": [
    "temp= ff_df1.loc[ff_df1['Region']== 1]\n",
    "plt.subplots(figsize=(13,6))\n",
    "sns.set_style('whitegrid')\n",
    "sns.countplot(x='month',hue='Classes',data= ff_df1,ec = 'black', palette= 'Set2')\n",
    "plt.title('Fire Analysis Month wise for Bejaia Region', fontsize=18, weight='bold')\n",
    "plt.ylabel('Count', weight = 'bold')\n",
    "plt.xlabel('Months', weight= 'bold')\n",
    "plt.legend(loc='upper right')\n",
    "plt.xticks(np.arange(4), ['June','July', 'August', 'September',])\n",
    "plt.grid(alpha = 0.5,axis = 'y')\n",
    "plt.show()"
   ]
  },
  {
   "cell_type": "code",
   "execution_count": null,
   "metadata": {
    "ExecuteTime": {
     "end_time": "2023-04-28T04:23:05.797093Z",
     "start_time": "2023-04-28T04:23:04.835979Z"
    }
   },
   "outputs": [],
   "source": [
    "temp= ff_df1.loc[ff_df1['Region']== 2]\n",
    "plt.subplots(figsize=(13,6))\n",
    "sns.set_style('whitegrid')\n",
    "sns.countplot(x='month',hue='Classes',data= ff_df1,ec = 'black', palette= 'Set2')\n",
    "plt.title('Fire Analysis Month wise for Sidi Bel-Abbes', fontsize=18, weight='bold')\n",
    "plt.ylabel('Count', weight = 'bold')\n",
    "plt.xlabel('Months', weight= 'bold')\n",
    "plt.legend(loc='upper right')\n",
    "plt.xticks(np.arange(4), ['June','July', 'August', 'September',])\n",
    "plt.grid(alpha = 0.5,axis = 'y')\n",
    "plt.show()"
   ]
  },
  {
   "cell_type": "markdown",
   "metadata": {},
   "source": [
    "- As observed from the count plots above, July and September seems to have the most number of forest fires for both regions.\n",
    "- Most of the fires happened in August.\n",
    "- Less fire in September."
   ]
  },
  {
   "cell_type": "markdown",
   "metadata": {},
   "source": [
    "### Weather System EDA"
   ]
  },
  {
   "cell_type": "code",
   "execution_count": null,
   "metadata": {
    "ExecuteTime": {
     "end_time": "2023-04-28T04:23:05.797093Z",
     "start_time": "2023-04-28T04:23:05.019862Z"
    }
   },
   "outputs": [],
   "source": [
    "def barchart(features, xlabel):\n",
    "    plt.figure(figsize=[14,8])\n",
    "    by_ft= ff_df1.groupby([features], as_index=False)['Classes'].sum()\n",
    "    ax =sns.barplot(x=features, y=\"Classes\", data=by_ft[[features, 'Classes']], estimator=sum)\n",
    "    ax.set(xlabel=xlabel, ylabel='Fire Count')"
   ]
  },
  {
   "cell_type": "code",
   "execution_count": null,
   "metadata": {
    "ExecuteTime": {
     "end_time": "2023-04-28T04:23:06.058778Z",
     "start_time": "2023-04-28T04:23:05.035811Z"
    }
   },
   "outputs": [],
   "source": [
    "barchart('Temperature', 'Temperature max in Celsius degree')"
   ]
  },
  {
   "cell_type": "code",
   "execution_count": null,
   "metadata": {
    "ExecuteTime": {
     "end_time": "2023-04-28T04:23:07.207920Z",
     "start_time": "2023-04-28T04:23:05.328276Z"
    }
   },
   "outputs": [],
   "source": [
    "barchart('Rain', 'Rain in mm')"
   ]
  },
  {
   "cell_type": "code",
   "execution_count": null,
   "metadata": {
    "ExecuteTime": {
     "end_time": "2023-04-28T04:23:07.321703Z",
     "start_time": "2023-04-28T04:23:05.859608Z"
    }
   },
   "outputs": [],
   "source": [
    "barchart('Ws', 'Wind Speed in km/hr')"
   ]
  },
  {
   "cell_type": "code",
   "execution_count": null,
   "metadata": {
    "ExecuteTime": {
     "end_time": "2023-04-28T04:23:07.634357Z",
     "start_time": "2023-04-28T04:23:06.262252Z"
    }
   },
   "outputs": [],
   "source": [
    "barchart('RH', 'Relative Humidity in %')"
   ]
  },
  {
   "cell_type": "markdown",
   "metadata": {},
   "source": [
    "### FWI System Components EDA"
   ]
  },
  {
   "cell_type": "code",
   "execution_count": null,
   "metadata": {
    "ExecuteTime": {
     "end_time": "2023-04-28T04:23:10.055178Z",
     "start_time": "2023-04-28T04:23:07.273102Z"
    }
   },
   "outputs": [],
   "source": [
    "temp = temp = ff_df1.drop(['Region','Temperature','Rain','Ws','RH'], axis=1)\n",
    "for feature in temp:\n",
    "    sns.histplot(data = temp,x=feature, hue = 'Classes')\n",
    "    plt.legend(labels=['Fire','Not Fire'])\n",
    "    plt.title(feature)\n",
    "    plt.show()"
   ]
  },
  {
   "cell_type": "markdown",
   "metadata": {},
   "source": [
    "## Report from EDA\n",
    "### Weather system report: highest fire counts\n",
    "- Temperature: 30-37 degree Celsius\n",
    "- Rain: no rain to very less rain 0.0 to 0.3.\n",
    "- Wind Speed: 13 to 19km/hr.\n",
    "- Relative Humidity: 50% to 80%.\n",
    "\n",
    "## FWI System component report: indexes that indicates higher chances of fire\n",
    "- Fine Fuel Moisture code(FFMC): range from 28.6 to 92.5: above 75(Higher chances of fires)\n",
    "- Duff Moisture Code(DMC): range 1.1 to 65.9: 1.1 to 10(Lower chance of fires)\n",
    "- Initial Spread Index(ISI): range from 0 to 18: 0 to 3(Lower chance of fires)\n",
    "- Buildup Index(BUI): range from 1.1 to 68: 1.1 to 10(Lower chance of fires)\n",
    "- Fire Weather Index(FWI): ranges from 1 to 31.1: 0 to 3 (Lower chance of fires)"
   ]
  },
  {
   "cell_type": "markdown",
   "metadata": {},
   "source": [
    "### Multicollinearity\n",
    "- Multicollinearity is a statistical concept where independent variables modelled are correlated. If 2 variables are considered perfectly collinear, this suggests their correlation coefficient is +/-1.0.\n",
    "- Result are less likely to be reliable statistical inferences.\n",
    "- It can be detected with various techniques\n",
    "- Regression analysis has the assumption that independent features should not have multicollinearity. Therefore, the independent variables need to have little correlation as much as possible .\n",
    "- Variance Inflation Factor(VIF).\n",
    "    - VIF value greater than 10 ---> Multicollinearity\n"
   ]
  },
  {
   "cell_type": "code",
   "execution_count": null,
   "metadata": {
    "ExecuteTime": {
     "end_time": "2023-04-28T04:23:10.055178Z",
     "start_time": "2023-04-28T04:23:10.055178Z"
    }
   },
   "outputs": [],
   "source": [
    "x =ff_df1.iloc[:, 0:13]\n",
    "y =ff_df1['Classes']"
   ]
  },
  {
   "cell_type": "code",
   "execution_count": null,
   "metadata": {
    "ExecuteTime": {
     "end_time": "2023-04-28T04:23:10.055178Z",
     "start_time": "2023-04-28T04:23:10.055178Z"
    }
   },
   "outputs": [],
   "source": [
    "x.head(10)"
   ]
  },
  {
   "cell_type": "code",
   "execution_count": null,
   "metadata": {
    "ExecuteTime": {
     "end_time": "2023-04-28T04:23:10.055178Z",
     "start_time": "2023-04-28T04:23:10.055178Z"
    }
   },
   "outputs": [],
   "source": [
    "y.head(10)"
   ]
  },
  {
   "cell_type": "code",
   "execution_count": null,
   "metadata": {
    "ExecuteTime": {
     "end_time": "2023-04-28T04:23:10.055178Z",
     "start_time": "2023-04-28T04:23:10.055178Z"
    }
   },
   "outputs": [],
   "source": [
    "#from statsmodels.stats.outliers_influence import variance_inflation_factor\n",
    "\n",
    "vif_value = pd.DataFrame()\n",
    "vif_value[\"feature\"] =x.columns\n",
    "vif_value[\"VIF\"]= [variance_inflation_factor(x.values, i)\n",
    "                                            for i in range(len(x.columns))]\n",
    "print(vif_value)"
   ]
  },
  {
   "cell_type": "markdown",
   "metadata": {},
   "source": [
    "## Defining classes for the algorithms"
   ]
  },
  {
   "cell_type": "code",
   "execution_count": null,
   "metadata": {
    "ExecuteTime": {
     "end_time": "2023-04-28T04:23:10.252511Z",
     "start_time": "2023-04-28T04:23:10.055178Z"
    }
   },
   "outputs": [],
   "source": [
    "ff_df2 =ff_df1.drop(['day','month','year'], axis=1)\n",
    "ff_df2.head(10)"
   ]
  },
  {
   "cell_type": "markdown",
   "metadata": {},
   "source": [
    "# Algorithm Analysis"
   ]
  },
  {
   "cell_type": "markdown",
   "metadata": {},
   "source": [
    "### Correlation"
   ]
  },
  {
   "cell_type": "code",
   "execution_count": null,
   "metadata": {
    "ExecuteTime": {
     "end_time": "2023-04-28T04:23:10.252511Z",
     "start_time": "2023-04-28T04:23:10.092812Z"
    }
   },
   "outputs": [],
   "source": [
    "def corrlt(dataset, threshold):\n",
    "    col_corr =set()\n",
    "    corr_matrix = dataset.corr()\n",
    "    for i in range(len(corr_matrix.columns)):\n",
    "        for j in range(i):\n",
    "            if abs(corr_matrix.iloc[i, j])>threshold:\n",
    "                colname =corr_matrix.columns[i]\n",
    "                col_corr.add(colname)\n",
    "    return col_corr"
   ]
  },
  {
   "cell_type": "markdown",
   "metadata": {},
   "source": [
    "### Scaling"
   ]
  },
  {
   "cell_type": "code",
   "execution_count": null,
   "metadata": {
    "ExecuteTime": {
     "end_time": "2023-04-28T04:23:10.252511Z",
     "start_time": "2023-04-28T04:23:10.115394Z"
    }
   },
   "outputs": [],
   "source": [
    "def scaler_standard(xtrain, xtest):\n",
    "    scaler = StandardScaler()\n",
    "    xtrain_scale = scaler.fit_transform(xtrain)\n",
    "    xtest_scale = scaler.transform(xtest)\n",
    "\n",
    "    return xtrain_scale, xtest_scale"
   ]
  },
  {
   "cell_type": "markdown",
   "metadata": {},
   "source": [
    "#### Splitting the dataset into train and test"
   ]
  },
  {
   "cell_type": "code",
   "execution_count": null,
   "metadata": {
    "ExecuteTime": {
     "end_time": "2023-04-28T04:23:10.252511Z",
     "start_time": "2023-04-28T04:23:10.131063Z"
    }
   },
   "outputs": [],
   "source": [
    "xtrain, xtest, ytrain, ytest = train_test_split(x, y, test_size=0.25,\n",
    "                                                    random_state=0)\n",
    "xtrain.shape, xtest.shape"
   ]
  },
  {
   "cell_type": "markdown",
   "metadata": {},
   "source": [
    "# Regression Problem algorithm:\n",
    "* Prediction of the feature [FWI] (Fire Weather Index) which correlates to Classes Feature by 90%+\n",
    "\n",
    "## Chosen model\n",
    "### Random Forest Regressor\n",
    "In these algorithm I have chosen to use the Random Forest Regressor model because it is versatile and performs well in various situations. Such as identifying important features or variables in the dataset by calculating feature importance's, which can be useful for feature selection and understanding the underlying relations in the dataset."
   ]
  },
  {
   "cell_type": "markdown",
   "metadata": {},
   "source": [
    "## Regression Analysis"
   ]
  },
  {
   "cell_type": "code",
   "execution_count": null,
   "metadata": {
    "ExecuteTime": {
     "end_time": "2023-04-28T04:23:10.299399Z",
     "start_time": "2023-04-28T04:23:10.165054Z"
    }
   },
   "outputs": [],
   "source": [
    "x= ff_df2.iloc[:,0:10]\n",
    "y= ff_df2['FWI']"
   ]
  },
  {
   "cell_type": "code",
   "execution_count": null,
   "metadata": {
    "ExecuteTime": {
     "end_time": "2023-04-28T04:23:10.377501Z",
     "start_time": "2023-04-28T04:23:10.205592Z"
    }
   },
   "outputs": [],
   "source": [
    "x.head()"
   ]
  },
  {
   "cell_type": "code",
   "execution_count": null,
   "metadata": {
    "ExecuteTime": {
     "end_time": "2023-04-28T04:23:10.377501Z",
     "start_time": "2023-04-28T04:23:10.236874Z"
    }
   },
   "outputs": [],
   "source": [
    "y.head()"
   ]
  },
  {
   "cell_type": "code",
   "execution_count": null,
   "metadata": {
    "ExecuteTime": {
     "end_time": "2023-04-28T04:23:10.486904Z",
     "start_time": "2023-04-28T04:23:10.252511Z"
    }
   },
   "outputs": [],
   "source": [
    "xtrain.columns"
   ]
  },
  {
   "cell_type": "code",
   "execution_count": null,
   "metadata": {
    "ExecuteTime": {
     "end_time": "2023-04-28T04:23:10.667010Z",
     "start_time": "2023-04-28T04:23:10.268143Z"
    }
   },
   "outputs": [],
   "source": [
    "xtrain.corr()"
   ]
  },
  {
   "cell_type": "code",
   "execution_count": null,
   "metadata": {
    "ExecuteTime": {
     "end_time": "2023-04-28T04:23:10.992364Z",
     "start_time": "2023-04-28T04:23:10.299399Z"
    }
   },
   "outputs": [],
   "source": [
    "#Pearson correlation\n",
    "plt.figure(figsize=(12,10))\n",
    "correlate= xtrain.corr()\n",
    "sns.heatmap(correlate, annot=True, cmap=plt.cm.CMRmap_r)\n",
    "plt.show()"
   ]
  },
  {
   "cell_type": "markdown",
   "metadata": {},
   "source": [
    "### consider Correlation threshold value as 0.8\n"
   ]
  },
  {
   "cell_type": "markdown",
   "metadata": {},
   "source": [
    "### Remove from the analysis any correlation for independent features and features with correlation >0.8\n",
    "using the corrlt and scaler_standard functions."
   ]
  },
  {
   "cell_type": "code",
   "execution_count": null,
   "metadata": {
    "ExecuteTime": {
     "end_time": "2023-04-28T04:23:11.086145Z",
     "start_time": "2023-04-28T04:23:10.823614Z"
    }
   },
   "outputs": [],
   "source": [
    "corrlt_features = corrlt(xtrain, 0.8)\n",
    "corrlt_features"
   ]
  },
  {
   "cell_type": "markdown",
   "metadata": {},
   "source": [
    "The features that are above the 0.8 threshold are 'BUI', 'DC', 'FWI'"
   ]
  },
  {
   "cell_type": "code",
   "execution_count": null,
   "metadata": {
    "ExecuteTime": {
     "end_time": "2023-04-28T04:23:11.086145Z",
     "start_time": "2023-04-28T04:23:10.845059Z"
    }
   },
   "outputs": [],
   "source": [
    "xtrain.drop(corrlt_features, axis=1, inplace=True)\n",
    "xtest.drop(corrlt_features, axis=1, inplace=True)\n",
    "xtrain.shape, xtest.shape"
   ]
  },
  {
   "cell_type": "code",
   "execution_count": null,
   "metadata": {
    "ExecuteTime": {
     "end_time": "2023-04-28T04:23:11.086145Z",
     "start_time": "2023-04-28T04:23:10.864404Z"
    }
   },
   "outputs": [],
   "source": [
    "xtrain_scale, xtest_scale = scaler_standard(xtrain, xtest)"
   ]
  },
  {
   "cell_type": "code",
   "execution_count": null,
   "metadata": {
    "ExecuteTime": {
     "end_time": "2023-04-28T04:23:11.484388Z",
     "start_time": "2023-04-28T04:23:10.882656Z"
    }
   },
   "outputs": [],
   "source": [
    "plt.subplots(figsize=(15, 5))\n",
    "plt.subplot(1, 2, 1)\n",
    "sns.boxplot(data= xtrain)\n",
    "plt.title('X_train Before Scaling')\n",
    "plt.subplot(1, 2, 2)\n",
    "sns.boxplot(data= xtrain_scale)\n",
    "plt.title('X_train After Scaling')"
   ]
  },
  {
   "cell_type": "markdown",
   "metadata": {},
   "source": [
    "## Model building for regression analysis"
   ]
  },
  {
   "cell_type": "markdown",
   "metadata": {},
   "source": [
    "#### Linear Regression"
   ]
  },
  {
   "cell_type": "code",
   "execution_count": null,
   "metadata": {
    "ExecuteTime": {
     "end_time": "2023-04-28T04:23:11.500134Z",
     "start_time": "2023-04-28T04:23:11.484323Z"
    }
   },
   "outputs": [],
   "source": [
    "LiReg = LinearRegression()\n",
    "LiReg.fit(xtrain_scale, ytrain)\n",
    "LiReg_pred = LiReg.predict(xtest_scale)\n",
    "MAE = metrics.mean_absolute_error(ytest, LiReg_pred)\n",
    "MSE = metrics.mean_squared_error(ytest, LiReg_pred)\n",
    "r2 =r2_score(ytest, LiReg_pred)#Coefficient of determination\n",
    "\n",
    "print(\"Linear Regressor\")\n",
    "print(\"Mean Absolute Error: {:.4f}\".format(MAE))\n",
    "print(\"Mean Squared Error: {:.4f}\".format(MSE))\n",
    "print(\"R-Square: {:.4f}\".format(r2))"
   ]
  },
  {
   "cell_type": "code",
   "execution_count": null,
   "metadata": {
    "ExecuteTime": {
     "end_time": "2023-04-28T04:23:11.681710Z",
     "start_time": "2023-04-28T04:23:11.506811Z"
    }
   },
   "outputs": [],
   "source": [
    "actual_pred = pd.DataFrame({'Actual Revenue: ':ytest, 'Predicted Revenue: ':LiReg_pred})\n",
    "actual_pred"
   ]
  },
  {
   "cell_type": "markdown",
   "metadata": {},
   "source": [
    "##### Lasso Regression"
   ]
  },
  {
   "cell_type": "code",
   "execution_count": null,
   "metadata": {
    "ExecuteTime": {
     "end_time": "2023-04-28T04:23:11.712940Z",
     "start_time": "2023-04-28T04:23:11.522806Z"
    }
   },
   "outputs": [],
   "source": [
    "#from sklearn.linear_model import Lasso\n",
    "Lass_Reg = Lasso()\n",
    "Lass_Reg.fit(xtrain_scale, ytrain)\n",
    "LassReg_pred = Lass_Reg.predict(xtest_scale)\n",
    "MAE = metrics.mean_absolute_error(ytest, LassReg_pred)\n",
    "MSE = metrics.mean_squared_error(ytest, LassReg_pred)\n",
    "r2= r2_score(ytest, LassReg_pred)\n",
    "\n",
    "print(\"Lasso Regression\")\n",
    "print(\"Mean Absolute Error: {:.4f}\".format(MAE))\n",
    "print(\"Mean Squared Error: {:.4f}\".format(MSE))\n",
    "print(\"R-Square: {:.4f}\".format(r2))"
   ]
  },
  {
   "cell_type": "code",
   "execution_count": null,
   "metadata": {
    "ExecuteTime": {
     "end_time": "2023-04-28T04:23:11.712940Z",
     "start_time": "2023-04-28T04:23:11.538484Z"
    }
   },
   "outputs": [],
   "source": [
    "Actual_pred = pd.DataFrame({'Actual Revenue: ': ytest, 'Predicted Revenue': LassReg_pred})\n",
    "Actual_pred"
   ]
  },
  {
   "cell_type": "markdown",
   "metadata": {},
   "source": [
    "##### Ridge Regression"
   ]
  },
  {
   "cell_type": "code",
   "execution_count": null,
   "metadata": {
    "ExecuteTime": {
     "end_time": "2023-04-28T04:23:11.712940Z",
     "start_time": "2023-04-28T04:23:11.554110Z"
    }
   },
   "outputs": [],
   "source": [
    "#from sklearn.linear_model import Ridge\n",
    "\n",
    "RReg = Ridge()\n",
    "RReg.fit(xtrain_scale, ytrain)\n",
    "RReg_Pred = RReg.predict(xtest_scale)\n",
    "MAE = metrics.mean_absolute_error(ytest, RReg_Pred)\n",
    "MSE = metrics.mean_squared_error(ytest, RReg_Pred)\n",
    "r2 =  r2_score(ytest, RReg_Pred)\n",
    "\n",
    "print(\"Ridge Regression\")\n",
    "print(\"Mean Absolute Error: {:.4f}\".format(MAE))\n",
    "print(\"Mean Squared Error: {:.4f}\".format(MSE))\n",
    "print(\"R-Square: {:.4f}\".format(r2))"
   ]
  },
  {
   "cell_type": "code",
   "execution_count": null,
   "metadata": {
    "ExecuteTime": {
     "end_time": "2023-04-28T04:23:11.712940Z",
     "start_time": "2023-04-28T04:23:11.569740Z"
    }
   },
   "outputs": [],
   "source": [
    "Actual_pred = pd.DataFrame({'Actual Revenue ': ytest, 'Predicted Revenue': RReg_Pred})\n",
    "Actual_pred"
   ]
  },
  {
   "cell_type": "markdown",
   "metadata": {},
   "source": [
    "##### Support Vector Regressor"
   ]
  },
  {
   "cell_type": "code",
   "execution_count": null,
   "metadata": {
    "ExecuteTime": {
     "end_time": "2023-04-28T04:23:11.712940Z",
     "start_time": "2023-04-28T04:23:11.585328Z"
    }
   },
   "outputs": [],
   "source": [
    "from sklearn.svm import SVR\n",
    "\n",
    "SVector_Reg = SVR()\n",
    "SVector_Reg.fit(xtrain_scale, ytrain)\n",
    "SVector_Reg_Pred = SVector_Reg.predict(xtest_scale)\n",
    "MAE = metrics.mean_absolute_error(ytest, SVector_Reg_Pred)\n",
    "MSE = metrics.mean_squared_error(ytest, SVector_Reg_Pred)\n",
    "r2 =  r2_score(ytest, SVector_Reg_Pred)\n",
    "\n",
    "print(\"Support Vector Regressor\")\n",
    "print(\"Mean Absolute Error: {:.4f}\".format(MAE))\n",
    "print(\"Mean Squared Error: {:.4f}\".format(MSE))\n",
    "print(\"R-Square: {:.4f}\".format(r2))"
   ]
  },
  {
   "cell_type": "code",
   "execution_count": null,
   "metadata": {
    "ExecuteTime": {
     "end_time": "2023-04-28T04:23:11.712940Z",
     "start_time": "2023-04-28T04:23:11.603529Z"
    }
   },
   "outputs": [],
   "source": [
    "Actual_predict = pd.DataFrame({'Actual Revenue ': ytest, 'Predicted Revenue': SVector_Reg_Pred})\n",
    "Actual_predict"
   ]
  },
  {
   "cell_type": "markdown",
   "metadata": {},
   "source": [
    "##### Random Forest Regressor"
   ]
  },
  {
   "cell_type": "code",
   "execution_count": null,
   "metadata": {
    "ExecuteTime": {
     "end_time": "2023-04-28T04:23:12.192980Z",
     "start_time": "2023-04-28T04:23:11.619283Z"
    }
   },
   "outputs": [],
   "source": [
    "RforestReg = RandomForestRegressor()\n",
    "RforestReg.fit(xtrain_scale, ytrain)\n",
    "forestReg_Pred = RforestReg.predict(xtest_scale)\n",
    "MAE = metrics.mean_absolute_error(ytest, forestReg_Pred)\n",
    "MSE = metrics.mean_squared_error(ytest, forestReg_Pred)\n",
    "r2 =  r2_score(ytest, forestReg_Pred)\n",
    "\n",
    "print(\"Random Forest Regressor\")\n",
    "print(\"Mean Absolute Error: {:.4f}\".format(MAE))\n",
    "print(\"Mean Squared Error: {:.4f}\".format(MSE))\n",
    "print(\"R-Square: {:.4f}\".format(r2))"
   ]
  },
  {
   "cell_type": "code",
   "execution_count": null,
   "metadata": {
    "ExecuteTime": {
     "end_time": "2023-04-28T04:23:12.192980Z",
     "start_time": "2023-04-28T04:23:11.748066Z"
    }
   },
   "outputs": [],
   "source": [
    "Actual_predict = pd.DataFrame({'Actual Revenue ': ytest, 'Predicted Revenue': forestReg_Pred})\n",
    "Actual_predict"
   ]
  },
  {
   "cell_type": "markdown",
   "metadata": {},
   "source": [
    "### K_Neighbors Regressor"
   ]
  },
  {
   "cell_type": "code",
   "execution_count": null,
   "metadata": {
    "ExecuteTime": {
     "end_time": "2023-04-28T04:23:12.240175Z",
     "start_time": "2023-04-28T04:23:11.768674Z"
    }
   },
   "outputs": [],
   "source": [
    "#from sklearn.neighbors import KNeighborsRegressor\n",
    "\n",
    "K_NReg = KNeighborsRegressor()\n",
    "K_NReg.fit(xtrain_scale, ytrain)\n",
    "K_NReg_Pred = K_NReg.predict(xtest_scale)\n",
    "MAE = metrics.mean_absolute_error(ytest, K_NReg_Pred)\n",
    "MSE = metrics.mean_squared_error(ytest, K_NReg_Pred)\n",
    "r2 =  r2_score(ytest, K_NReg_Pred)\n",
    "\n",
    "print(\"K-Neighbor Regressor\")\n",
    "print(\"Mean Absolute Error: {:.4f}\".format(MAE))\n",
    "print(\"Mean Squared Error: {:.4f}\".format(MSE))\n",
    "print(\"R-Square: {:.4f}\".format(r2))"
   ]
  },
  {
   "cell_type": "code",
   "execution_count": null,
   "metadata": {
    "ExecuteTime": {
     "end_time": "2023-04-28T04:23:12.271443Z",
     "start_time": "2023-04-28T04:23:11.800285Z"
    }
   },
   "outputs": [],
   "source": [
    "Actual_pred = pd.DataFrame({'Actual Revenue ': ytest, 'Predicted Revenue': K_NReg_Pred})\n",
    "Actual_pred"
   ]
  },
  {
   "cell_type": "markdown",
   "metadata": {},
   "source": [
    "### r2 Score Results Summary"
   ]
  },
  {
   "cell_type": "code",
   "execution_count": null,
   "metadata": {
    "ExecuteTime": {
     "end_time": "2023-04-28T04:23:12.271443Z",
     "start_time": "2023-04-28T04:23:11.815940Z"
    }
   },
   "outputs": [],
   "source": [
    "print(\"      Models                 Score  \")\n",
    "print(\"Random Forest Regressor      95.15% \")\n",
    "print(\"Support Vector regressor     72.33% \")\n",
    "print(\"K-Neighbors Regressor        69.10% \")\n",
    "print(\"Linear Regressor             64.53% \")\n",
    "print(\"Ridge Regressor              64.50% \")\n",
    "print(\"Lasso Regressor              -0.43% \")"
   ]
  },
  {
   "cell_type": "markdown",
   "metadata": {},
   "source": [
    "Random Forest regressor has performed best out of all the models"
   ]
  },
  {
   "cell_type": "markdown",
   "metadata": {},
   "source": [
    "## Hyperparameter Tuning\n",
    "#### Tuning Random Forest Regressor"
   ]
  },
  {
   "cell_type": "code",
   "execution_count": null,
   "metadata": {
    "ExecuteTime": {
     "end_time": "2023-04-28T04:23:13.033299Z",
     "start_time": "2023-04-28T04:23:11.831561Z"
    }
   },
   "outputs": [],
   "source": [
    "param_grid =[{'bootstrap': [True, False],\n",
    "'max_depth': [10, 20, 30, 40, 50, 60, 70, 80, 90, 100, 110,120],\n",
    "'max_features': ['auto', 'sqrt'],\n",
    "'min_samples_leaf': [1, 3, 4],\n",
    "'min_samples_split': [2, 6, 10],\n",
    "'n_estimators': [5, 20, 50, 100]}]\n",
    "\n",
    "forestReg = RandomForestRegressor()\n",
    "Rand_rf = RandomizedSearchCV(forestReg, param_grid, cv = 10, verbose=2,n_jobs = -1)\n",
    "Rand_rf.fit(xtrain_scale, ytrain)"
   ]
  },
  {
   "cell_type": "code",
   "execution_count": null,
   "metadata": {
    "ExecuteTime": {
     "end_time": "2023-04-28T04:23:13.053000Z",
     "start_time": "2023-04-28T04:23:12.396461Z"
    }
   },
   "outputs": [],
   "source": [
    "BestRand_grid = Rand_rf.best_estimator_\n",
    "\n",
    "bestref_pred = BestRand_grid.predict(xtest_scale)\n",
    "bestref_pred\n",
    "MAE = metrics.mean_absolute_error(ytest, bestref_pred)\n",
    "MSE = metrics.mean_squared_error(ytest, bestref_pred)\n",
    "reg2 =  r2_score(ytest, K_NReg_Pred)\n",
    "\n",
    "print(\"Random Forest Tuned\")\n",
    "print(\"Mean Absolute Error: {:.4f}\".format(MAE))\n",
    "print(\"Mean Squared Error: {:.4f}\".format(MSE))\n",
    "print(\"R-Square: {:.4f}\".format(r2))"
   ]
  },
  {
   "cell_type": "markdown",
   "metadata": {},
   "source": [
    "## Selecting Features\n",
    "- Only selecting 5 important features to make the prediction\n",
    "    - #### ISI, FFMC, DMC, RH, and Ws as seen in the output below."
   ]
  },
  {
   "cell_type": "code",
   "execution_count": null,
   "metadata": {
    "ExecuteTime": {
     "end_time": "2023-04-28T04:23:13.053000Z",
     "start_time": "2023-04-28T04:23:12.505819Z"
    }
   },
   "outputs": [],
   "source": [
    "important_features = Rand_rf.best_estimator_.feature_importances_\n",
    "important_df = pd.DataFrame({\n",
    "    'feature': xtrain.columns,\n",
    "    'importance': important_features\n",
    "}).sort_values('importance', ascending=False)\n",
    "important_df"
   ]
  },
  {
   "cell_type": "code",
   "execution_count": null,
   "metadata": {
    "ExecuteTime": {
     "end_time": "2023-04-28T04:23:13.162407Z",
     "start_time": "2023-04-28T04:23:12.539396Z"
    }
   },
   "outputs": [],
   "source": [
    "plt.figure(figsize=(12,6))\n",
    "sns.set_style('ticks')\n",
    "ax = sns.barplot(data=important_df, x='importance', y='feature',ec = 'black')\n",
    "ax.set_title('Top 7 Important Features', weight='bold',fontsize = 15)\n",
    "ax.set_xlabel('Feature Importance %',weight='bold')\n",
    "ax.set_ylabel('Features',weight='bold')"
   ]
  },
  {
   "cell_type": "markdown",
   "metadata": {},
   "source": [
    "## Deployment Model"
   ]
  },
  {
   "cell_type": "code",
   "execution_count": null,
   "metadata": {
    "ExecuteTime": {
     "end_time": "2023-04-28T04:23:13.162407Z",
     "start_time": "2023-04-28T04:23:12.867990Z"
    }
   },
   "outputs": [],
   "source": [
    "xtrain_new = xtrain.drop(['Rain', 'RH'], axis=1)\n",
    "xtest_new = xtest.drop(['Rain', 'RH'], axis=1)"
   ]
  },
  {
   "cell_type": "code",
   "execution_count": null,
   "metadata": {
    "ExecuteTime": {
     "end_time": "2023-04-28T04:23:13.162407Z",
     "start_time": "2023-04-28T04:23:12.888895Z"
    }
   },
   "outputs": [],
   "source": [
    "xtrain_new.columns"
   ]
  },
  {
   "cell_type": "code",
   "execution_count": null,
   "metadata": {
    "ExecuteTime": {
     "end_time": "2023-04-28T04:23:13.162407Z",
     "start_time": "2023-04-28T04:23:12.919019Z"
    }
   },
   "outputs": [],
   "source": [
    "xtest_new.columns"
   ]
  },
  {
   "cell_type": "code",
   "execution_count": null,
   "metadata": {
    "ExecuteTime": {
     "end_time": "2023-04-28T04:23:13.162407Z",
     "start_time": "2023-04-28T04:23:12.935415Z"
    }
   },
   "outputs": [],
   "source": [
    "xtrain_new_scale, xtest_new_scale = scaler_standard(xtrain_new, xtest_new)\n"
   ]
  },
  {
   "cell_type": "code",
   "execution_count": null,
   "metadata": {
    "ExecuteTime": {
     "end_time": "2023-04-28T04:23:13.162407Z",
     "start_time": "2023-04-28T04:23:12.951039Z"
    }
   },
   "outputs": [],
   "source": [
    "BestRand_grid.fit(xtrain_new_scale, ytrain)\n",
    "bestref_pred = BestRand_grid.predict(xtest_new_scale)\n",
    "MAE = metrics.mean_absolute_error(ytest, bestref_pred)\n",
    "MSE = metrics.mean_squared_error(ytest, bestref_pred)\n",
    "reg2 =  r2_score(ytest, K_NReg_Pred)\n",
    "\n",
    "print(\"Random Forest Tuned\")\n",
    "print(\"Mean Absolute Error: {:.4f}\".format(MAE))\n",
    "print(\"Mean Squared Error: {:.4f}\".format(MSE))\n",
    "print(\"R-Square: {:.4f}\".format(r2))"
   ]
  },
  {
   "cell_type": "code",
   "execution_count": null,
   "metadata": {
    "ExecuteTime": {
     "end_time": "2023-04-28T04:23:13.162407Z",
     "start_time": "2023-04-28T04:23:12.982288Z"
    }
   },
   "outputs": [],
   "source": [
    "#import bz2,pickle\n",
    "file = bz2.BZ2File('Regression.pkl','wb')\n",
    "pickle.dump(BestRand_grid,file)\n",
    "file.close()"
   ]
  },
  {
   "cell_type": "markdown",
   "metadata": {},
   "source": [
    "\n",
    "# Classification Algorithm:\n",
    "* Binary classification [(fire, not fire)] by predicting the features [\"Classes\"] from dataset\n",
    "\n",
    "## XGboost Classifier.\n",
    "* In these algorithm I choose to use the XGboost Classifier because of its high performance, scalability and ability to handle a variety of data types. It will also implement the gradient boosting algorithm that ensemble weak models while minimising prediction errors. It also provides a more generalised solution and over-fitting prevention as it has a regularisation techniques. It also increases model performances as it offers parallel training and in built cross-validation methods."
   ]
  },
  {
   "cell_type": "markdown",
   "metadata": {},
   "source": [
    "### Classification Analysis"
   ]
  },
  {
   "cell_type": "code",
   "execution_count": null,
   "metadata": {
    "ExecuteTime": {
     "end_time": "2023-04-28T04:23:13.162407Z",
     "start_time": "2023-04-28T04:23:13.002023Z"
    }
   },
   "outputs": [],
   "source": [
    "ff_df2.head()"
   ]
  },
  {
   "cell_type": "markdown",
   "metadata": {},
   "source": [
    "#### Splitting dataset into inout and output feature"
   ]
  },
  {
   "cell_type": "code",
   "execution_count": null,
   "metadata": {
    "ExecuteTime": {
     "end_time": "2023-04-28T04:23:13.405652Z",
     "start_time": "2023-04-28T04:23:13.017713Z"
    }
   },
   "outputs": [],
   "source": [
    "x= ff_df2.iloc[:, 0:10]\n",
    "y= ff_df2['Classes']"
   ]
  },
  {
   "cell_type": "code",
   "execution_count": null,
   "metadata": {
    "ExecuteTime": {
     "end_time": "2023-04-28T04:23:13.405652Z",
     "start_time": "2023-04-28T04:23:13.033299Z"
    }
   },
   "outputs": [],
   "source": [
    "x.head(10)"
   ]
  },
  {
   "cell_type": "code",
   "execution_count": null,
   "metadata": {
    "ExecuteTime": {
     "end_time": "2023-04-28T04:23:13.554273Z",
     "start_time": "2023-04-28T04:23:13.053000Z"
    }
   },
   "outputs": [],
   "source": [
    "y.head(10)"
   ]
  },
  {
   "cell_type": "code",
   "execution_count": null,
   "metadata": {
    "ExecuteTime": {
     "end_time": "2023-04-28T04:23:13.554273Z",
     "start_time": "2023-04-28T04:23:13.068656Z"
    }
   },
   "outputs": [],
   "source": [
    "# separate dataset into train and test\n",
    "xtrain, xtest, ytrain, ytest = train_test_split(x, y, test_size=0.4, random_state=0)\n",
    "xtrain.shape, xtest.shape"
   ]
  },
  {
   "cell_type": "code",
   "execution_count": null,
   "metadata": {
    "ExecuteTime": {
     "end_time": "2023-04-28T04:23:13.731571Z",
     "start_time": "2023-04-28T04:23:13.084279Z"
    }
   },
   "outputs": [],
   "source": [
    "xtrain.columns"
   ]
  },
  {
   "cell_type": "code",
   "execution_count": null,
   "metadata": {
    "ExecuteTime": {
     "end_time": "2023-04-28T04:23:13.872190Z",
     "start_time": "2023-04-28T04:23:13.099924Z"
    }
   },
   "outputs": [],
   "source": [
    "corrlt_features = corrlt(xtrain, 0.8)\n",
    "corrlt_features"
   ]
  },
  {
   "cell_type": "code",
   "execution_count": null,
   "metadata": {
    "ExecuteTime": {
     "end_time": "2023-04-28T04:23:13.903887Z",
     "start_time": "2023-04-28T04:23:13.115532Z"
    }
   },
   "outputs": [],
   "source": [
    "xtrain.drop(corrlt_features,axis=1, inplace=True)\n",
    "xtest.drop(corrlt_features,axis=1, inplace=True)\n",
    "xtrain.shape, xtest.shape"
   ]
  },
  {
   "cell_type": "code",
   "execution_count": null,
   "metadata": {
    "ExecuteTime": {
     "end_time": "2023-04-28T04:23:13.919560Z",
     "start_time": "2023-04-28T04:23:13.131156Z"
    }
   },
   "outputs": [],
   "source": [
    "xtrain_scale, xtest_scale = scaler_standard(xtrain, xtest)"
   ]
  },
  {
   "cell_type": "markdown",
   "metadata": {},
   "source": [
    "#### Logistic Regression"
   ]
  },
  {
   "cell_type": "code",
   "execution_count": null,
   "metadata": {
    "ExecuteTime": {
     "end_time": "2023-04-28T04:23:13.935154Z",
     "start_time": "2023-04-28T04:23:13.146812Z"
    }
   },
   "outputs": [],
   "source": [
    "LReg =LogisticRegression()\n",
    "LReg.fit(xtrain_scale, ytrain)\n",
    "LReg_Pred = LReg.predict(xtest_scale)\n",
    "Score = accuracy_score(ytest, LReg_Pred)\n",
    "CReport = classification_report(ytest, LReg_Pred)\n",
    "\n",
    "print(\"Logistic Regression\")\n",
    "print (\"Accuracy Score value: {:.4f}\".format(Score))\n",
    "print (CReport)"
   ]
  },
  {
   "cell_type": "code",
   "execution_count": null,
   "metadata": {
    "ExecuteTime": {
     "end_time": "2023-04-28T04:23:13.935154Z",
     "start_time": "2023-04-28T04:23:13.183315Z"
    }
   },
   "outputs": [],
   "source": [
    "Actual_pred = pd.DataFrame({'Actual Revenue': ytest, 'Predicted Revenue': LReg_Pred})\n",
    "Actual_pred"
   ]
  },
  {
   "cell_type": "markdown",
   "metadata": {},
   "source": [
    "##### Metrics\n",
    "- Precision: Ratio of true +ve to sum of true and false +ve\n",
    "\n",
    "- Recall: Ratio of true +ve to sum of true +ve and false -ve\n",
    "\n",
    "- F1 Score: Weighted harmonic mean of precision and recall.\n",
    "the close the value is to 1.0 the better the expected performance of a model."
   ]
  },
  {
   "cell_type": "code",
   "execution_count": null,
   "metadata": {
    "ExecuteTime": {
     "end_time": "2023-04-28T04:23:13.966412Z",
     "start_time": "2023-04-28T04:23:13.199011Z"
    }
   },
   "outputs": [],
   "source": [
    "LReg_ConfMatrix = ConfusionMatrixDisplay.from_estimator(LReg, xtest_scale, ytest)\n",
    "LReg_ConfMatrix"
   ]
  },
  {
   "cell_type": "markdown",
   "metadata": {},
   "source": [
    "##### Decision Tree"
   ]
  },
  {
   "cell_type": "code",
   "execution_count": null,
   "metadata": {
    "ExecuteTime": {
     "end_time": "2023-04-28T04:23:13.966412Z",
     "start_time": "2023-04-28T04:23:13.386412Z"
    }
   },
   "outputs": [],
   "source": [
    "DT_Classifier = DecisionTreeClassifier()\n",
    "DT_Classifier.fit(xtrain_scale, ytrain)\n",
    "DT_Classifier_pred = DT_Classifier.predict(xtest_scale)\n",
    "Score = accuracy_score(ytest, DT_Classifier_pred)\n",
    "CReport = classification_report(ytest, DT_Classifier_pred)\n",
    "\n",
    "print(\"Decision Tree\")\n",
    "print (\"Accuracy Score value: {:.4f}\".format(Score))\n",
    "print (CReport)"
   ]
  },
  {
   "cell_type": "code",
   "execution_count": null,
   "metadata": {
    "ExecuteTime": {
     "end_time": "2023-04-28T04:23:13.966412Z",
     "start_time": "2023-04-28T04:23:13.405652Z"
    }
   },
   "outputs": [],
   "source": [
    "Actual_pred = pd.DataFrame({'Actual Revenue': ytest, 'Predicted Revenue': DT_Classifier_pred})\n",
    "Actual_pred"
   ]
  },
  {
   "cell_type": "code",
   "execution_count": null,
   "metadata": {
    "ExecuteTime": {
     "end_time": "2023-04-28T04:23:14.196832Z",
     "start_time": "2023-04-28T04:23:13.422491Z"
    }
   },
   "outputs": [],
   "source": [
    "DT_Classifier_ConfMatrix = ConfusionMatrixDisplay.from_estimator(DT_Classifier, xtest_scale, ytest)\n",
    "DT_Classifier_ConfMatrix"
   ]
  },
  {
   "cell_type": "code",
   "execution_count": null,
   "metadata": {
    "ExecuteTime": {
     "end_time": "2023-04-28T04:23:14.252687Z",
     "start_time": "2023-04-28T04:23:13.585920Z"
    }
   },
   "outputs": [],
   "source": [
    "plt.figure(figsize = (10,5))\n",
    "tree.plot_tree(DT_Classifier,filled = True)\n",
    "plt.show()"
   ]
  },
  {
   "cell_type": "markdown",
   "metadata": {},
   "source": [
    "### Random Forest Classifier"
   ]
  },
  {
   "cell_type": "code",
   "execution_count": null,
   "metadata": {
    "ExecuteTime": {
     "end_time": "2023-04-28T04:23:14.500116Z",
     "start_time": "2023-04-28T04:23:13.856605Z"
    }
   },
   "outputs": [],
   "source": [
    "#from sklearn.ensemble import RandomForestClassifier\n",
    "\n",
    "RF_Classifier = RandomForestClassifier()\n",
    "RF_Classifier.fit(xtrain_scale, ytrain)\n",
    "RF_Classifier_pred = RF_Classifier.predict(xtest_scale)\n",
    "RF_Classifier_pred\n",
    "Score = accuracy_score(ytest, RF_Classifier_pred)\n",
    "CReport = classification_report(ytest, RF_Classifier_pred)\n",
    "\n",
    "print(\"Random Forest\")\n",
    "print (\"Accuracy Score value: {:.4f}\".format(Score))\n",
    "print (CReport)"
   ]
  },
  {
   "cell_type": "code",
   "execution_count": null,
   "metadata": {
    "ExecuteTime": {
     "end_time": "2023-04-28T04:23:14.531365Z",
     "start_time": "2023-04-28T04:23:13.982030Z"
    }
   },
   "outputs": [],
   "source": [
    "Actual_pred = pd.DataFrame({'Actual Revenue': ytest, 'Predicted Revenue': RF_Classifier_pred})\n",
    "Actual_pred"
   ]
  },
  {
   "cell_type": "code",
   "execution_count": null,
   "metadata": {
    "ExecuteTime": {
     "end_time": "2023-04-28T04:23:14.593871Z",
     "start_time": "2023-04-28T04:23:14.009303Z"
    }
   },
   "outputs": [],
   "source": [
    "RF_Classifier_ConfMatrix = ConfusionMatrixDisplay.from_estimator(RF_Classifier, xtest_scale, ytest)\n",
    "RF_Classifier_ConfMatrix"
   ]
  },
  {
   "cell_type": "markdown",
   "metadata": {},
   "source": [
    "### K_Neighbors Classifier"
   ]
  },
  {
   "cell_type": "code",
   "execution_count": null,
   "metadata": {
    "ExecuteTime": {
     "end_time": "2023-04-28T04:23:14.593871Z",
     "start_time": "2023-04-28T04:23:14.181202Z"
    }
   },
   "outputs": [],
   "source": [
    "# KNeighborsClassifier to Train from SKlearn\n",
    "K_NClassifier = KNeighborsClassifier()\n",
    "K_NClassifier.fit(xtrain_scale, ytrain)\n",
    "K_NClassifier_pred = K_NClassifier.predict(xtest_scale)\n",
    "K_NClassifier_pred\n",
    "Score = accuracy_score(ytest, K_NClassifier_pred)\n",
    "CReport = classification_report(ytest, K_NClassifier_pred)\n",
    "\n",
    "print(\"Random Forest\")\n",
    "print (\"Accuracy Score value: {:.4f}\".format(Score))\n",
    "print (CReport)"
   ]
  },
  {
   "cell_type": "code",
   "execution_count": null,
   "metadata": {
    "ExecuteTime": {
     "end_time": "2023-04-28T04:23:14.892699Z",
     "start_time": "2023-04-28T04:23:14.212439Z"
    }
   },
   "outputs": [],
   "source": [
    "Actual_pred = pd.DataFrame({'Actual Revenue': ytest, 'Predicted Revenue': K_NClassifier_pred})\n",
    "Actual_pred"
   ]
  },
  {
   "cell_type": "code",
   "execution_count": null,
   "metadata": {
    "ExecuteTime": {
     "end_time": "2023-04-28T04:23:15.314959Z",
     "start_time": "2023-04-28T04:23:14.232489Z"
    }
   },
   "outputs": [],
   "source": [
    "K_NClassifier_ConfMatrix = ConfusionMatrixDisplay.from_estimator(K_NClassifier, xtest_scale, ytest)\n",
    "K_NClassifier_ConfMatrix"
   ]
  },
  {
   "cell_type": "markdown",
   "metadata": {},
   "source": [
    "## XGb Model"
   ]
  },
  {
   "cell_type": "code",
   "execution_count": null,
   "metadata": {
    "ExecuteTime": {
     "end_time": "2023-04-28T04:23:15.314959Z",
     "start_time": "2023-04-28T04:23:14.625224Z"
    }
   },
   "outputs": [],
   "source": [
    "xgb = XGBClassifier()\n",
    "xgb.fit(xtrain_scale, ytrain)\n",
    "xgb_pred = xgb.predict(xtest_scale)\n",
    "xgb_pred\n",
    "Score = accuracy_score(ytest, xgb_pred)\n",
    "CReport = classification_report(ytest, xgb_pred)\n",
    "\n",
    "print(\"XGBoost Classifier\")\n",
    "print (\"Accuracy Score value: {:.4f}\".format(Score))\n",
    "print (CReport)"
   ]
  },
  {
   "cell_type": "code",
   "execution_count": null,
   "metadata": {
    "ExecuteTime": {
     "end_time": "2023-04-28T04:23:15.314959Z",
     "start_time": "2023-04-28T04:23:14.672136Z"
    }
   },
   "outputs": [],
   "source": [
    "Actual_pred = pd.DataFrame({'Actual Revenue': ytest, 'Predicted Revenue': xgb_pred})\n",
    "Actual_pred"
   ]
  },
  {
   "cell_type": "code",
   "execution_count": null,
   "metadata": {
    "ExecuteTime": {
     "end_time": "2023-04-28T04:23:15.440031Z",
     "start_time": "2023-04-28T04:23:14.689541Z"
    }
   },
   "outputs": [],
   "source": [
    "xgb_cm = ConfusionMatrixDisplay.from_estimator(xgb, xtest_scale, ytest)"
   ]
  },
  {
   "cell_type": "markdown",
   "metadata": {},
   "source": [
    "# HyperParameter Tuning"
   ]
  },
  {
   "cell_type": "markdown",
   "metadata": {},
   "source": [
    "#### XGb classifier tuning"
   ]
  },
  {
   "cell_type": "code",
   "execution_count": null,
   "metadata": {
    "ExecuteTime": {
     "end_time": "2023-04-28T04:23:15.909238Z",
     "start_time": "2023-04-28T04:23:14.861447Z"
    }
   },
   "outputs": [],
   "source": [
    "params={\n",
    " \"learning_rate\"    : (np.linspace(0,10, 100)) ,\n",
    " \"max_depth\"        : (np.linspace(1,50, 25,dtype=int)),\n",
    " \"min_child_weight\" : [1, 3, 5, 7],\n",
    " \"gamma\"            : [0.0, 0.1, 0.2 , 0.3, 0.4],\n",
    " \"colsample_bytree\" : [0.3, 0.4, 0.5 , 0.7]}\n",
    "Rand_xgb = RandomizedSearchCV(xgb, params, cv = 10, n_jobs = -1)\n",
    "Rand_xgb.fit(xtrain_scale, ytrain).best_estimator_"
   ]
  },
  {
   "cell_type": "code",
   "execution_count": null,
   "metadata": {
    "ExecuteTime": {
     "end_time": "2023-04-28T04:23:15.909238Z",
     "start_time": "2023-04-28T04:23:15.267690Z"
    }
   },
   "outputs": [],
   "source": [
    "Bst_xgb = Rand_xgb.best_estimator_\n",
    "Bst_xgb.score(xtest_scale, ytest)\n",
    "Bstxgb_pred = Bst_xgb.predict(xtest_scale)\n",
    "Score = accuracy_score(ytest, Bstxgb_pred)\n",
    "CReport = classification_report(ytest, Bstxgb_pred)\n",
    "print(\"FINAL XGB\")\n",
    "print (\"Accuracy Score value: {:.4f}\".format(Score))\n",
    "print (CReport)"
   ]
  },
  {
   "cell_type": "code",
   "execution_count": null,
   "metadata": {
    "ExecuteTime": {
     "end_time": "2023-04-28T04:23:15.909238Z",
     "start_time": "2023-04-28T04:23:15.283699Z"
    }
   },
   "outputs": [],
   "source": [
    "Actual_pred = pd.DataFrame({'Actual Revenue': ytest, 'Predicted Revenue': Bstxgb_pred})\n",
    "Actual_pred"
   ]
  },
  {
   "cell_type": "markdown",
   "metadata": {},
   "source": [
    "#### Forest Classifier Tuning"
   ]
  },
  {
   "cell_type": "code",
   "execution_count": null,
   "metadata": {
    "ExecuteTime": {
     "end_time": "2023-04-28T04:23:17.991585Z",
     "start_time": "2023-04-28T04:23:15.299334Z"
    }
   },
   "outputs": [],
   "source": [
    "params = {\n",
    "    \"n_estimators\" : [90,100,115,130],\n",
    "    'criterion': ['gini', 'entropy'],\n",
    "    'max_depth' : range(2,20,1),\n",
    "    'min_samples_leaf' : range(1,10,1),\n",
    "    'min_samples_split': range(2,10,1),\n",
    "    'max_features' : ['auto','log2']\n",
    "}\n",
    "rf = RandomizedSearchCV(RF_Classifier, params, cv = 10,n_jobs = -1)\n",
    "rf.fit(xtrain_scale, ytrain).best_estimator_"
   ]
  },
  {
   "cell_type": "code",
   "execution_count": null,
   "metadata": {
    "ExecuteTime": {
     "end_time": "2023-04-28T04:23:18.022925Z",
     "start_time": "2023-04-28T04:23:17.991585Z"
    }
   },
   "outputs": [],
   "source": [
    "Bst_rf = rf.best_estimator_\n",
    "Bst_rf.score(xtest_scale, ytest)"
   ]
  },
  {
   "cell_type": "code",
   "execution_count": null,
   "metadata": {
    "ExecuteTime": {
     "end_time": "2023-04-28T04:23:18.117949Z",
     "start_time": "2023-04-28T04:23:18.022925Z"
    }
   },
   "outputs": [],
   "source": [
    "Bstrf_pred = Bst_rf.predict(xtest_scale)\n",
    "Bstrf_pred"
   ]
  },
  {
   "cell_type": "code",
   "execution_count": null,
   "metadata": {
    "ExecuteTime": {
     "end_time": "2023-04-28T04:23:18.117949Z",
     "start_time": "2023-04-28T04:23:18.041889Z"
    }
   },
   "outputs": [],
   "source": [
    "Actual_pred = pd.DataFrame({'Actual Revenue': ytest, 'Predicted Revenue': Bstrf_pred})\n",
    "Actual_pred"
   ]
  },
  {
   "cell_type": "markdown",
   "metadata": {},
   "source": [
    "# Model Selection"
   ]
  },
  {
   "cell_type": "markdown",
   "metadata": {},
   "source": [
    "\n",
    "## Stratified K-fold Cross-validation(CV)\n",
    "- This ensures the feature interest needed for the training and test set have the same proportion as the original dataset.\n",
    "- Needed for good accuracy without error."
   ]
  },
  {
   "cell_type": "code",
   "execution_count": null,
   "metadata": {
    "ExecuteTime": {
     "end_time": "2023-04-28T04:23:18.117949Z",
     "start_time": "2023-04-28T04:23:18.061947Z"
    }
   },
   "outputs": [],
   "source": [
    "from sklearn.model_selection import StratifiedKFold, cross_val_score\n",
    "skfold = StratifiedKFold(n_splits= 10,shuffle= True,random_state= 0)"
   ]
  },
  {
   "cell_type": "code",
   "execution_count": null,
   "metadata": {
    "ExecuteTime": {
     "end_time": "2023-04-28T04:23:18.692259Z",
     "start_time": "2023-04-28T04:23:18.079411Z"
    }
   },
   "outputs": [],
   "source": [
    "cv_xgb= cross_val_score(Bst_xgb, x, y, cv=skfold, scoring='accuracy').mean()\n",
    "print('CV Score XGB Tuned {:.4f}'.format(cv_xgb))"
   ]
  },
  {
   "cell_type": "code",
   "execution_count": null,
   "metadata": {
    "ExecuteTime": {
     "end_time": "2023-04-28T04:23:20.272001Z",
     "start_time": "2023-04-28T04:23:18.473796Z"
    }
   },
   "outputs": [],
   "source": [
    "cv_rf =cross_val_score(RF_Classifier, x, y, cv=skfold, scoring=\"accuracy\").mean()\n",
    "print('CV Score Random Forest {:.4f}'.format(cv_rf))"
   ]
  },
  {
   "cell_type": "code",
   "execution_count": null,
   "metadata": {
    "ExecuteTime": {
     "end_time": "2023-04-28T04:23:20.358659Z",
     "start_time": "2023-04-28T04:23:20.264577Z"
    }
   },
   "outputs": [],
   "source": [
    "cv_dt =cross_val_score(DT_Classifier, x, y, cv= skfold, scoring=\"accuracy\").mean()\n",
    "print('CV Score Decision Tree {:.4f}'.format(cv_dt))"
   ]
  },
  {
   "cell_type": "code",
   "execution_count": null,
   "metadata": {
    "ExecuteTime": {
     "end_time": "2023-04-28T04:23:20.488574Z",
     "start_time": "2023-04-28T04:23:20.327407Z"
    }
   },
   "outputs": [],
   "source": [
    "cv_knn =cross_val_score(K_NClassifier, x, y, cv=skfold, scoring=\"accuracy\").mean()\n",
    "print('CV Score KNN Classifier {:.4f}'.format(cv_knn))"
   ]
  },
  {
   "cell_type": "code",
   "execution_count": null,
   "metadata": {
    "ExecuteTime": {
     "end_time": "2023-04-28T04:23:20.604008Z",
     "start_time": "2023-04-28T04:23:20.394792Z"
    }
   },
   "outputs": [],
   "source": [
    "cv_lg =cross_val_score(LReg, x, y, cv=skfold, scoring=\"accuracy\").mean()\n",
    "print('CV Score Logistic Regression {:.4f}'.format(cv_lg))"
   ]
  },
  {
   "cell_type": "markdown",
   "metadata": {},
   "source": [
    "XGboost Classifier has the better result."
   ]
  },
  {
   "cell_type": "markdown",
   "metadata": {},
   "source": [
    "###  Model Deployment Feature Selection"
   ]
  },
  {
   "cell_type": "code",
   "execution_count": null,
   "metadata": {
    "ExecuteTime": {
     "end_time": "2023-04-28T04:23:20.604008Z",
     "start_time": "2023-04-28T04:23:20.535450Z"
    }
   },
   "outputs": [],
   "source": [
    "important_features =    Rand_xgb.best_estimator_.feature_importances_\n",
    "important_df = pd.DataFrame({\n",
    "    'feature': xtrain.columns,\n",
    "    'importance': important_features\n",
    "}).sort_values('importance', ascending=False)\n",
    "important_df"
   ]
  },
  {
   "cell_type": "code",
   "execution_count": null,
   "metadata": {
    "ExecuteTime": {
     "end_time": "2023-04-28T04:23:21.154370Z",
     "start_time": "2023-04-28T04:23:20.557061Z"
    }
   },
   "outputs": [],
   "source": [
    "plt.figure(figsize=(12,6))\n",
    "sns.set_style('ticks')\n",
    "ax = sns.barplot(data=important_df, x='importance', y='feature',ec = 'black')\n",
    "ax.set_title('Top 7 Important Features', weight='bold',fontsize = 15)\n",
    "ax.set_xlabel('Feature Importance %',weight='bold')\n",
    "ax.set_ylabel('Features',weight='bold')"
   ]
  },
  {
   "cell_type": "markdown",
   "metadata": {},
   "source": [
    "# Model Deployment"
   ]
  },
  {
   "cell_type": "code",
   "execution_count": null,
   "metadata": {
    "ExecuteTime": {
     "end_time": "2023-04-28T04:23:21.232490Z",
     "start_time": "2023-04-28T04:23:20.760253Z"
    }
   },
   "outputs": [],
   "source": [
    "xtrain.columns"
   ]
  },
  {
   "cell_type": "code",
   "execution_count": null,
   "metadata": {
    "ExecuteTime": {
     "end_time": "2023-04-28T04:23:21.232490Z",
     "start_time": "2023-04-28T04:23:20.775920Z"
    }
   },
   "outputs": [],
   "source": [
    "xtrain_new = xtrain.drop(['Rain', 'RH'], axis=1)\n",
    "xtest_new = xtest.drop(['Rain', 'RH'], axis=1)"
   ]
  },
  {
   "cell_type": "code",
   "execution_count": null,
   "metadata": {
    "ExecuteTime": {
     "end_time": "2023-04-28T04:23:21.232490Z",
     "start_time": "2023-04-28T04:23:20.794830Z"
    }
   },
   "outputs": [],
   "source": [
    "xtrain_new.columns"
   ]
  },
  {
   "cell_type": "code",
   "execution_count": null,
   "metadata": {
    "ExecuteTime": {
     "end_time": "2023-04-28T04:23:21.232490Z",
     "start_time": "2023-04-28T04:23:20.815273Z"
    }
   },
   "outputs": [],
   "source": [
    "xtest_new.columns"
   ]
  },
  {
   "cell_type": "code",
   "execution_count": null,
   "metadata": {
    "ExecuteTime": {
     "end_time": "2023-04-28T04:23:21.232490Z",
     "start_time": "2023-04-28T04:23:20.837939Z"
    }
   },
   "outputs": [],
   "source": [
    "xtrain_new_scale, xtest_new_scale = scaler_standard(xtrain_new, xtest_new)"
   ]
  },
  {
   "cell_type": "code",
   "execution_count": null,
   "metadata": {
    "ExecuteTime": {
     "end_time": "2023-04-28T04:23:21.534671Z",
     "start_time": "2023-04-28T04:23:20.857041Z"
    }
   },
   "outputs": [],
   "source": [
    "xgb_model =Rand_xgb.fit(xtrain_new_scale, ytrain).best_estimator_\n",
    "xgb_model.score(xtest_new_scale, ytest)\n",
    "xgb_model_pred = xgb_model.predict(xtest_new_scale)\n",
    "Score = accuracy_score(ytest, xgb_model_pred)\n",
    "CReport = classification_report(ytest, xgb_model_pred)\n",
    "print(\"Final Model XGB\")\n",
    "print (\"Accuracy Score value: {:.4f}\".format(Score))\n",
    "print (CReport)"
   ]
  },
  {
   "cell_type": "code",
   "execution_count": null,
   "metadata": {
    "ExecuteTime": {
     "end_time": "2023-04-28T04:23:21.572857Z",
     "start_time": "2023-04-28T04:23:21.251544Z"
    }
   },
   "outputs": [],
   "source": [
    "Actual_pred = pd.DataFrame({'Actual Revenue': ytest, 'Predicted Revenue': xgb_model_pred})\n",
    "Actual_pred"
   ]
  },
  {
   "cell_type": "code",
   "execution_count": null,
   "metadata": {
    "ExecuteTime": {
     "end_time": "2023-04-28T04:23:21.572857Z",
     "start_time": "2023-04-28T04:23:21.264557Z"
    }
   },
   "outputs": [],
   "source": [
    "#import bz2,pickle\n",
    "file = bz2.BZ2File('Classification.pkl','wb')\n",
    "pickle.dump(xgb_model, file)\n",
    "file.close()"
   ]
  },
  {
   "cell_type": "markdown",
   "metadata": {},
   "source": [
    "# Conclusion\n",
    "- Based on the results and the implementation of the algorithm, the prediction can only be used to calculate if fire could possibly occur at a location based on the inputs collected.\n",
    "- Both algorithms classification and regression were deployed and completed."
   ]
  },
  {
   "cell_type": "markdown",
   "metadata": {},
   "source": [
    "# References\n",
    "1. Faroudja ABID et al. , â€œPredicting Forest Fire in Algeria using Data Mining Techniques: Case Study of the Decision Tree Algorithmâ€, International Conference on Advanced Intelligent Systems for Sustainable Development (AI2SD 2019) , 08 - 11 July , 2019, Marrakech, Morocco.\n",
    "2. https://github.com/ashishrana1501/Forest-Fire-Prediction"
   ]
  }
 ],
 "metadata": {
  "kernelspec": {
   "display_name": "Python 3 (ipykernel)",
   "language": "python",
   "name": "python3"
  },
  "language_info": {
   "codemirror_mode": {
    "name": "ipython",
    "version": 3
   },
   "file_extension": ".py",
   "mimetype": "text/x-python",
   "name": "python",
   "nbconvert_exporter": "python",
   "pygments_lexer": "ipython3",
   "version": "3.10.9"
  }
 },
 "nbformat": 4,
 "nbformat_minor": 1
}
